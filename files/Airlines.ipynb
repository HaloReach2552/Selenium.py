{
 "cells": [
  {
   "cell_type": "markdown",
   "id": "e2413607",
   "metadata": {},
   "source": [
    "# Data Scraping: Airlines."
   ]
  },
  {
   "cell_type": "markdown",
   "id": "1f4f36c2",
   "metadata": {},
   "source": [
    "1. Este es un proyecto que busca realizar, en primer lugar, una extracción de los datos  de las diferentes aerolineas que se encuentran disponibles en la pagina oficial de **Despegar.com** y de **Atrapalo.com**. El proceso que se va a seguir es mediante el Web Scraping, en el cual se usara **Selenium** para extraer toda clase de informacion util para el proyecto, para que al final se obtenga una base de datos de la pagina mencionada.\n",
    "\n",
    "2. En segundo lugar, se manipulará la base de datos mediante el paquete **pandas** para poder manipular la base de datos y analizarla, mediante tecnicas de procesamiento del dato.\n",
    "\n",
    "3. Por ultimo, se pretende visualizar los datos con los paquetes **Matplotlib** y **Seaborn** una vez que se haya manipulado correctamente en el apartado del procesamiento de los datos. Los graficos comunes que se utilizacion serian los siguientes: Histogramas, diagrama de cajas, grafico de barras y graficos de pastel.\n",
    "\n",
    "\n",
    "* Lo interesante de este trabajo no radica solo en la extraccion de la data que se encuentran en la pagina oficial, sino que va a permitir generar valor agregado al publico en general y a las empresas de aerolineas, por los siguientes motivos:\n",
    "\n",
    "    * En el caso de las empresas: buscar ampliar y conocer su publico objetivo.\n",
    "    * En el caso de las empresas: mejorar las condiciones de los vuelos, para que los vuelos sean mas placenteros.\n",
    "    * Publico en general: Conocer los precios de las diferentes aerolineas disponibles acorde a sus necesidades de forma    rapida.\n",
    "    * Publico en general: Conocer la hora y la fecha de salida como de llegada al lugar de destino, sin tener que buscar en el navegador web.\n",
    "\n",
    "* El publico al que va dirigido este proyecto serian:\n",
    "   * Empresarios que buscan establecer nuevas empresas en el territorio europeo.\n",
    "   * Estudiantes que van a realizar estudios universitarios.\n",
    "   * Personas que planean trabajar en Europa por un largo tiempo.\n",
    "   * Familiares que buscan realizar una nueva vida en Europa."
   ]
  },
  {
   "cell_type": "markdown",
   "id": "fd2a1ca2",
   "metadata": {},
   "source": [
    "# 1. Importando las librerias:"
   ]
  },
  {
   "cell_type": "code",
   "execution_count": 1,
   "id": "bb64b061",
   "metadata": {},
   "outputs": [],
   "source": [
    "import pandas as pd\n",
    "import requests\n",
    "import seaborn as sns\n",
    "import matplotlib.pyplot as plt\n",
    "\n",
    "from selenium import webdriver\n",
    "from selenium.webdriver.support.ui import WebDriverWait\n",
    "from webdriver_manager.chrome import ChromeDriverManager\n",
    "from selenium.webdriver.common.by import By\n",
    "from selenium.webdriver.support import expected_conditions as EC\n",
    "import time\n",
    "\n",
    "import warnings\n",
    "warnings.filterwarnings(\"ignore\")\n",
    "sns.set_theme()"
   ]
  },
  {
   "cell_type": "markdown",
   "id": "d37672fa",
   "metadata": {},
   "source": [
    "* https://www.atrapalo.pe/ms/results?journeys=LIM%2CBCN%2C20220410&adults=1&children=0&babies=0&isResident=false&isLargeFamily=false&countryContext=PE&language=es_PE&device=desktop&transport_type=FLIGHT&app=web&test=B&companies=AR%2CAM%2CUX%2CAF%2CAA%2CAV%2CCM%2CIB%2CB6%2CKL%2CLA%2CNK%2CTK%2CUA&page=0&fieldOrder=atrapalo&airports=LIM%2CBCN\n"
   ]
  },
  {
   "cell_type": "code",
   "execution_count": 46,
   "id": "b74f8a53",
   "metadata": {},
   "outputs": [],
   "source": [
    "PATH=\"https://www.atrapalo.pe/ms/results?journeys=LIM%2CBCN%2C20220410&adults=1&children=0&babies=0&isResident=false&isLargeFamily=false&countryContext=PE&language=es_PE&device=desktop&transport_type=FLIGHT&app=web&test=B&companies=AR%2CAM%2CUX%2CAF%2CAA%2CAV%2CCM%2CIB%2CB6%2CKL%2CLA%2CNK%2CTK%2CUA&page=0&fieldOrder=atrapalo&airports=LIM%2CBCN\"\n",
    "driver=webdriver.Chrome(executable_path=\"C:/Selenium/chromedriver.exe\")\n",
    "driver.get(PATH)\n",
    "driver.maximize_window()\n",
    "time.sleep(6)"
   ]
  },
  {
   "cell_type": "markdown",
   "id": "81c40fc1",
   "metadata": {},
   "source": [
    "# 1.1.Extraemos los datos de la primera pagina:"
   ]
  },
  {
   "cell_type": "code",
   "execution_count": 25,
   "id": "c6cddd9e",
   "metadata": {},
   "outputs": [
    {
     "name": "stdout",
     "output_type": "stream",
     "text": [
      "La cantidad de vuelos que se encontraron en la primera pagina fueron de 25\n"
     ]
    }
   ],
   "source": [
    "vuelos=driver.find_elements_by_xpath('//div[@class=\"sc-dJjYzT styles__CardContainer-sc-pp754f-1 dXjtCY eIAskt\"]')\n",
    "print(f\"La cantidad de vuelos que se encontraron en la primera pagina fueron de {len(vuelos)}\")"
   ]
  },
  {
   "cell_type": "markdown",
   "id": "dec30000",
   "metadata": {},
   "source": [
    "# 1.2. Extraemos todos los datos de las paginas en total:"
   ]
  },
  {
   "cell_type": "code",
   "execution_count": 47,
   "id": "9caae741",
   "metadata": {},
   "outputs": [],
   "source": [
    "def info(element):\n",
    "    aerolinea=element.find_element_by_xpath('.//div[@class=\"sc-dlVxhl styles__CompanyContainer-sc-11cw88s-0 ktswCS evvPTk styles__StyledCompany-sc-1ornisu-1 hYVtEY\"]/span').text\n",
    "    escalas=element.find_element_by_xpath('.//div[@class=\"TagContainer-sc-153d48d-0 bcVhUV\"]/span').text\n",
    "    duracion=element.find_element_by_xpath('.//div[@class=\"sc-dlVxhl styles__ScaleContainer-sc-e2vz5e-1 ieiYOS gYgLzi\"]/span').text\n",
    "    salida=element.find_element_by_xpath('.//span[@class=\"sc-hBUSln darCtt JourneyTime__HourFont-sc-1ej0v4k-1 cjymPo\"]/span').text\n",
    "    llegada=element.find_element_by_xpath(\".//div[@class='sc-dlVxhl styles__ContainerInfoJourney-sc-e2vz5e-0 ktswCS eTvHQZ']/div[contains(@class,'jrxQKb')]\").text\n",
    "    persona=element.find_element_by_xpath('.//span[@class=\"sc-hBUSln darCtt styles__TripText-sc-1hhvl2t-4 ctPRqH\"]').text\n",
    "    origen=element.find_element_by_xpath('//*[@id=\"container-searchResult\"]/div/div[4]/div/div/div[1]/div/div/div[1]/div[1]/div/div/div[3]/div/div[1]/span[2]').text\n",
    "    destino=element.find_element_by_xpath('//*[@id=\"container-searchResult\"]/div/div[4]/div/div/div[1]/div/div/div[1]/div[1]/div/div/div[3]/div/div[3]/span[2]').text\n",
    "    precio=element.find_element_by_xpath('.//span[@class=\"sc-hBUSln darCtt styles__Price-sc-1hhvl2t-3 HraOy\"]/span[1]').text\n",
    "\n",
    "    dict_info = {\n",
    "        \"Aerolinea\":aerolinea,\n",
    "        \"Escalas\":escalas,\n",
    "        \"Duracion\":duracion,\n",
    "        \"Salida\":salida,\n",
    "        \"Llegada\":llegada,\n",
    "        \"Persona\":persona,\n",
    "        \"Origen\":origen,\n",
    "        \"Destino\":destino,\n",
    "        \"Precio\":precio\n",
    "    }\n",
    "    \n",
    "    return dict_info\n"
   ]
  },
  {
   "cell_type": "markdown",
   "id": "7c009e18",
   "metadata": {},
   "source": [
    "## 1.3. Obteniendo los detalles de cada vuelo:"
   ]
  },
  {
   "cell_type": "code",
   "execution_count": 48,
   "id": "bad97b51",
   "metadata": {},
   "outputs": [
    {
     "name": "stdout",
     "output_type": "stream",
     "text": [
      "Iniciamos el scraper.....\n",
      "La cantidad de vuelos que se encontraron en la primera pagina fueron de 25\n"
     ]
    }
   ],
   "source": [
    "def primera_pagina(driver):\n",
    "    print(\"Iniciamos el scraper.....\")\n",
    "    vuelos=driver.find_elements_by_xpath('//div[@class=\"sc-dJjYzT styles__CardContainer-sc-pp754f-1 dXjtCY eIAskt\"]')\n",
    "    print(f\"La cantidad de vuelos que se encontraron en la primera pagina fueron de {len(vuelos)}\")\n",
    "    \n",
    "    script= []\n",
    "    \n",
    "    for element in vuelos:\n",
    "        resultado=info(element)\n",
    "        script.append(resultado)\n",
    "    return script\n",
    "\n",
    "data=primera_pagina(driver)"
   ]
  },
  {
   "cell_type": "code",
   "execution_count": 49,
   "id": "b271ba7c",
   "metadata": {},
   "outputs": [
    {
     "data": {
      "text/html": [
       "<div>\n",
       "<style scoped>\n",
       "    .dataframe tbody tr th:only-of-type {\n",
       "        vertical-align: middle;\n",
       "    }\n",
       "\n",
       "    .dataframe tbody tr th {\n",
       "        vertical-align: top;\n",
       "    }\n",
       "\n",
       "    .dataframe thead th {\n",
       "        text-align: right;\n",
       "    }\n",
       "</style>\n",
       "<table border=\"1\" class=\"dataframe\">\n",
       "  <thead>\n",
       "    <tr style=\"text-align: right;\">\n",
       "      <th></th>\n",
       "      <th>Aerolinea</th>\n",
       "      <th>Escalas</th>\n",
       "      <th>Duracion</th>\n",
       "      <th>Salida</th>\n",
       "      <th>Llegada</th>\n",
       "      <th>Persona</th>\n",
       "      <th>Origen</th>\n",
       "      <th>Destino</th>\n",
       "      <th>Precio</th>\n",
       "    </tr>\n",
       "  </thead>\n",
       "  <tbody>\n",
       "    <tr>\n",
       "      <th>0</th>\n",
       "      <td>Aeromexico</td>\n",
       "      <td>2 escalas</td>\n",
       "      <td>26h 30m</td>\n",
       "      <td>07:05</td>\n",
       "      <td>16:35\\n+1\\nBCN</td>\n",
       "      <td>por persona</td>\n",
       "      <td>LIM</td>\n",
       "      <td>BCN</td>\n",
       "      <td>USD607</td>\n",
       "    </tr>\n",
       "    <tr>\n",
       "      <th>1</th>\n",
       "      <td>LATAM Airlines</td>\n",
       "      <td>1 escala</td>\n",
       "      <td>25h 40m</td>\n",
       "      <td>00:20</td>\n",
       "      <td>09:00\\n+1\\nBCN</td>\n",
       "      <td>por persona</td>\n",
       "      <td>LIM</td>\n",
       "      <td>BCN</td>\n",
       "      <td>USD696</td>\n",
       "    </tr>\n",
       "    <tr>\n",
       "      <th>2</th>\n",
       "      <td>Aeromexico</td>\n",
       "      <td>2 escalas</td>\n",
       "      <td>33h 05m</td>\n",
       "      <td>00:30</td>\n",
       "      <td>16:35\\n+1\\nBCN</td>\n",
       "      <td>por persona</td>\n",
       "      <td>LIM</td>\n",
       "      <td>BCN</td>\n",
       "      <td>USD607</td>\n",
       "    </tr>\n",
       "    <tr>\n",
       "      <th>3</th>\n",
       "      <td>Aeromexico</td>\n",
       "      <td>2 escalas</td>\n",
       "      <td>32h 50m</td>\n",
       "      <td>07:05</td>\n",
       "      <td>22:55\\n+1\\nBCN</td>\n",
       "      <td>por persona</td>\n",
       "      <td>LIM</td>\n",
       "      <td>BCN</td>\n",
       "      <td>USD611</td>\n",
       "    </tr>\n",
       "  </tbody>\n",
       "</table>\n",
       "</div>"
      ],
      "text/plain": [
       "        Aerolinea    Escalas Duracion Salida         Llegada      Persona  \\\n",
       "0      Aeromexico  2 escalas  26h 30m  07:05  16:35\\n+1\\nBCN  por persona   \n",
       "1  LATAM Airlines   1 escala  25h 40m  00:20  09:00\\n+1\\nBCN  por persona   \n",
       "2      Aeromexico  2 escalas  33h 05m  00:30  16:35\\n+1\\nBCN  por persona   \n",
       "3      Aeromexico  2 escalas  32h 50m  07:05  22:55\\n+1\\nBCN  por persona   \n",
       "\n",
       "  Origen Destino  Precio  \n",
       "0    LIM     BCN  USD607  \n",
       "1    LIM     BCN  USD696  \n",
       "2    LIM     BCN  USD607  \n",
       "3    LIM     BCN  USD611  "
      ]
     },
     "execution_count": 49,
     "metadata": {},
     "output_type": "execute_result"
    }
   ],
   "source": [
    "data_0=pd.DataFrame(data)\n",
    "data_0.head(4)"
   ]
  },
  {
   "cell_type": "markdown",
   "id": "a6fce826",
   "metadata": {},
   "source": [
    "## 2. Extraemos todos los datos de la pagina 2:"
   ]
  },
  {
   "cell_type": "code",
   "execution_count": 50,
   "id": "1a485dfc",
   "metadata": {},
   "outputs": [
    {
     "name": "stdout",
     "output_type": "stream",
     "text": [
      "Vamos a la siguiente pagina 1\n"
     ]
    }
   ],
   "source": [
    "for i in range(0,1):\n",
    "    print(f\"Vamos a la siguiente pagina {i+1}\")\n",
    "    driver.get(\"https://www.atrapalo.pe/ms/results?journeys=LIM%2CBCN%2C20220410&adults=1&children=0&babies=0&isResident=false&isLargeFamily=false&countryContext=PE&language=es_PE&device=desktop&transport_type=FLIGHT&app=web&test=B&companies=AR%2CAM%2CUX%2CAF%2CAA%2CAV%2CCM%2CIB%2CB6%2CKL%2CLA%2CNK%2CTK%2CUA&page={}&fieldOrder=atrapalo&airports=LIM%2CBCN\".format(i+1))\n",
    "    time.sleep(7)\n",
    "    "
   ]
  },
  {
   "cell_type": "code",
   "execution_count": 51,
   "id": "27dd6eae",
   "metadata": {},
   "outputs": [
    {
     "name": "stdout",
     "output_type": "stream",
     "text": [
      "Iniciamos el scraper.....\n",
      "La cantidad de vuelos que se encontraron en la primera pagina fueron de 25\n"
     ]
    }
   ],
   "source": [
    "def segunda_pagina(driver):\n",
    "    print(\"Iniciamos el scraper.....\")\n",
    "    vuelos_2=driver.find_elements_by_xpath('//div[@class=\"sc-dJjYzT styles__CardContainer-sc-pp754f-1 dXjtCY eIAskt\"]')\n",
    "    print(f\"La cantidad de vuelos que se encontraron en la primera pagina fueron de {len(vuelos_2)}\")\n",
    "    \n",
    "    script= []\n",
    "    \n",
    "    for element in vuelos_2:\n",
    "        resultado=info(element)\n",
    "        script.append(resultado)\n",
    "    return script\n",
    "\n",
    "data1=segunda_pagina(driver)"
   ]
  },
  {
   "cell_type": "code",
   "execution_count": 52,
   "id": "1f5be678",
   "metadata": {},
   "outputs": [
    {
     "data": {
      "text/html": [
       "<div>\n",
       "<style scoped>\n",
       "    .dataframe tbody tr th:only-of-type {\n",
       "        vertical-align: middle;\n",
       "    }\n",
       "\n",
       "    .dataframe tbody tr th {\n",
       "        vertical-align: top;\n",
       "    }\n",
       "\n",
       "    .dataframe thead th {\n",
       "        text-align: right;\n",
       "    }\n",
       "</style>\n",
       "<table border=\"1\" class=\"dataframe\">\n",
       "  <thead>\n",
       "    <tr style=\"text-align: right;\">\n",
       "      <th></th>\n",
       "      <th>Aerolinea</th>\n",
       "      <th>Escalas</th>\n",
       "      <th>Duracion</th>\n",
       "      <th>Salida</th>\n",
       "      <th>Llegada</th>\n",
       "      <th>Persona</th>\n",
       "      <th>Origen</th>\n",
       "      <th>Destino</th>\n",
       "      <th>Precio</th>\n",
       "    </tr>\n",
       "  </thead>\n",
       "  <tbody>\n",
       "    <tr>\n",
       "      <th>0</th>\n",
       "      <td>Avianca</td>\n",
       "      <td>2 escalas</td>\n",
       "      <td>24h 45m</td>\n",
       "      <td>11:05</td>\n",
       "      <td>18:50\\n+1\\nBCN</td>\n",
       "      <td>por persona</td>\n",
       "      <td>LIM</td>\n",
       "      <td>BCN</td>\n",
       "      <td>USD993</td>\n",
       "    </tr>\n",
       "    <tr>\n",
       "      <th>1</th>\n",
       "      <td>Avianca</td>\n",
       "      <td>2 escalas</td>\n",
       "      <td>28h 55m</td>\n",
       "      <td>06:55</td>\n",
       "      <td>18:50\\n+1\\nBCN</td>\n",
       "      <td>por persona</td>\n",
       "      <td>LIM</td>\n",
       "      <td>BCN</td>\n",
       "      <td>USD954</td>\n",
       "    </tr>\n",
       "    <tr>\n",
       "      <th>2</th>\n",
       "      <td>KLM Royal Dutch Airlines</td>\n",
       "      <td>2 escalas</td>\n",
       "      <td>20h 00m</td>\n",
       "      <td>19:55</td>\n",
       "      <td>22:55\\n+1\\nBCN</td>\n",
       "      <td>por persona</td>\n",
       "      <td>LIM</td>\n",
       "      <td>BCN</td>\n",
       "      <td>USD1,066</td>\n",
       "    </tr>\n",
       "    <tr>\n",
       "      <th>3</th>\n",
       "      <td>Avianca</td>\n",
       "      <td>2 escalas</td>\n",
       "      <td>26h 15m</td>\n",
       "      <td>11:05</td>\n",
       "      <td>20:20\\n+1\\nBCN</td>\n",
       "      <td>por persona</td>\n",
       "      <td>LIM</td>\n",
       "      <td>BCN</td>\n",
       "      <td>USD993</td>\n",
       "    </tr>\n",
       "  </tbody>\n",
       "</table>\n",
       "</div>"
      ],
      "text/plain": [
       "                  Aerolinea    Escalas Duracion Salida         Llegada  \\\n",
       "0                   Avianca  2 escalas  24h 45m  11:05  18:50\\n+1\\nBCN   \n",
       "1                   Avianca  2 escalas  28h 55m  06:55  18:50\\n+1\\nBCN   \n",
       "2  KLM Royal Dutch Airlines  2 escalas  20h 00m  19:55  22:55\\n+1\\nBCN   \n",
       "3                   Avianca  2 escalas  26h 15m  11:05  20:20\\n+1\\nBCN   \n",
       "\n",
       "       Persona Origen Destino    Precio  \n",
       "0  por persona    LIM     BCN    USD993  \n",
       "1  por persona    LIM     BCN    USD954  \n",
       "2  por persona    LIM     BCN  USD1,066  \n",
       "3  por persona    LIM     BCN    USD993  "
      ]
     },
     "execution_count": 52,
     "metadata": {},
     "output_type": "execute_result"
    }
   ],
   "source": [
    "data_1=pd.DataFrame(data1)\n",
    "data_1.head(4)"
   ]
  },
  {
   "cell_type": "markdown",
   "id": "63bfba7c",
   "metadata": {},
   "source": [
    "## 3. Extraemos todos los datos de la pagina 3"
   ]
  },
  {
   "cell_type": "code",
   "execution_count": 53,
   "id": "d275dd36",
   "metadata": {},
   "outputs": [
    {
     "name": "stdout",
     "output_type": "stream",
     "text": [
      "Vamos a la siguiente pagina :2\n"
     ]
    }
   ],
   "source": [
    "for i in range(1,2):\n",
    "    print(f\"Vamos a la siguiente pagina :{i+1}\")\n",
    "    driver.get(\"https://www.atrapalo.pe/ms/results?journeys=LIM%2CBCN%2C20220410&adults=1&children=0&babies=0&isResident=false&isLargeFamily=false&countryContext=PE&language=es_PE&device=desktop&transport_type=FLIGHT&app=web&test=B&companies=AR%2CAM%2CUX%2CAF%2CAA%2CAV%2CCM%2CIB%2CB6%2CKL%2CLA%2CNK%2CTK%2CUA&page={}&fieldOrder=atrapalo&airports=LIM%2CBCN\".format(i+1))\n",
    "    time.sleep(8)"
   ]
  },
  {
   "cell_type": "code",
   "execution_count": 54,
   "id": "0397120c",
   "metadata": {},
   "outputs": [
    {
     "name": "stdout",
     "output_type": "stream",
     "text": [
      "Iniciamos el scraper.....\n",
      "La cantidad de vuelos que se encontraron en la primera pagina fueron de 25\n"
     ]
    }
   ],
   "source": [
    "def tercera_pagina(driver):\n",
    "    print(\"Iniciamos el scraper.....\")\n",
    "    vuelos_3=driver.find_elements_by_xpath('//div[@class=\"sc-dJjYzT styles__CardContainer-sc-pp754f-1 dXjtCY eIAskt\"]')\n",
    "    print(f\"La cantidad de vuelos que se encontraron en la primera pagina fueron de {len(vuelos_3)}\")\n",
    "    \n",
    "    script= []\n",
    "    \n",
    "    for element in vuelos_3:\n",
    "        resultado=info(element)\n",
    "        script.append(resultado)\n",
    "    return script\n",
    "\n",
    "data2=tercera_pagina(driver)"
   ]
  },
  {
   "cell_type": "code",
   "execution_count": 55,
   "id": "a3317e25",
   "metadata": {},
   "outputs": [
    {
     "data": {
      "text/html": [
       "<div>\n",
       "<style scoped>\n",
       "    .dataframe tbody tr th:only-of-type {\n",
       "        vertical-align: middle;\n",
       "    }\n",
       "\n",
       "    .dataframe tbody tr th {\n",
       "        vertical-align: top;\n",
       "    }\n",
       "\n",
       "    .dataframe thead th {\n",
       "        text-align: right;\n",
       "    }\n",
       "</style>\n",
       "<table border=\"1\" class=\"dataframe\">\n",
       "  <thead>\n",
       "    <tr style=\"text-align: right;\">\n",
       "      <th></th>\n",
       "      <th>Aerolinea</th>\n",
       "      <th>Escalas</th>\n",
       "      <th>Duracion</th>\n",
       "      <th>Salida</th>\n",
       "      <th>Llegada</th>\n",
       "      <th>Persona</th>\n",
       "      <th>Origen</th>\n",
       "      <th>Destino</th>\n",
       "      <th>Precio</th>\n",
       "    </tr>\n",
       "  </thead>\n",
       "  <tbody>\n",
       "    <tr>\n",
       "      <th>0</th>\n",
       "      <td>Avianca</td>\n",
       "      <td>2 escalas</td>\n",
       "      <td>46h 55m</td>\n",
       "      <td>06:55</td>\n",
       "      <td>12:50\\n+2\\nBCN</td>\n",
       "      <td>por persona</td>\n",
       "      <td>LIM</td>\n",
       "      <td>BCN</td>\n",
       "      <td>USD1,002</td>\n",
       "    </tr>\n",
       "    <tr>\n",
       "      <th>1</th>\n",
       "      <td>LATAM Airlines</td>\n",
       "      <td>1 escala</td>\n",
       "      <td>29h 25m</td>\n",
       "      <td>22:30</td>\n",
       "      <td>10:55\\n+2\\nBCN</td>\n",
       "      <td>por persona</td>\n",
       "      <td>LIM</td>\n",
       "      <td>BCN</td>\n",
       "      <td>USD1,226</td>\n",
       "    </tr>\n",
       "    <tr>\n",
       "      <th>2</th>\n",
       "      <td>LATAM Airlines</td>\n",
       "      <td>2 escalas</td>\n",
       "      <td>21h 40m</td>\n",
       "      <td>12:25</td>\n",
       "      <td>17:05\\n+1\\nBCN</td>\n",
       "      <td>por persona</td>\n",
       "      <td>LIM</td>\n",
       "      <td>BCN</td>\n",
       "      <td>USD1,375</td>\n",
       "    </tr>\n",
       "    <tr>\n",
       "      <th>3</th>\n",
       "      <td>LATAM Airlines</td>\n",
       "      <td>2 escalas</td>\n",
       "      <td>27h 10m</td>\n",
       "      <td>12:25</td>\n",
       "      <td>22:35\\n+1\\nBCN</td>\n",
       "      <td>por persona</td>\n",
       "      <td>LIM</td>\n",
       "      <td>BCN</td>\n",
       "      <td>USD1,319</td>\n",
       "    </tr>\n",
       "  </tbody>\n",
       "</table>\n",
       "</div>"
      ],
      "text/plain": [
       "        Aerolinea    Escalas Duracion Salida         Llegada      Persona  \\\n",
       "0         Avianca  2 escalas  46h 55m  06:55  12:50\\n+2\\nBCN  por persona   \n",
       "1  LATAM Airlines   1 escala  29h 25m  22:30  10:55\\n+2\\nBCN  por persona   \n",
       "2  LATAM Airlines  2 escalas  21h 40m  12:25  17:05\\n+1\\nBCN  por persona   \n",
       "3  LATAM Airlines  2 escalas  27h 10m  12:25  22:35\\n+1\\nBCN  por persona   \n",
       "\n",
       "  Origen Destino    Precio  \n",
       "0    LIM     BCN  USD1,002  \n",
       "1    LIM     BCN  USD1,226  \n",
       "2    LIM     BCN  USD1,375  \n",
       "3    LIM     BCN  USD1,319  "
      ]
     },
     "execution_count": 55,
     "metadata": {},
     "output_type": "execute_result"
    }
   ],
   "source": [
    "data_2=pd.DataFrame(data2)\n",
    "data_2.head(4)"
   ]
  },
  {
   "cell_type": "markdown",
   "id": "81a230f1",
   "metadata": {},
   "source": [
    "## 4. Ultima pagina."
   ]
  },
  {
   "cell_type": "code",
   "execution_count": 56,
   "id": "5eae6945",
   "metadata": {},
   "outputs": [
    {
     "name": "stdout",
     "output_type": "stream",
     "text": [
      "Vamos a la siguiente pagina 3\n"
     ]
    }
   ],
   "source": [
    "for i in range(2,3):\n",
    "    print(f\"Vamos a la siguiente pagina {i+1}\")\n",
    "    driver.get(\"https://www.atrapalo.pe/ms/results?journeys=LIM%2CBCN%2C20220410&adults=1&children=0&babies=0&isResident=false&isLargeFamily=false&countryContext=PE&language=es_PE&device=desktop&transport_type=FLIGHT&app=web&test=B&companies=AR%2CAM%2CUX%2CAF%2CAA%2CAV%2CCM%2CIB%2CB6%2CKL%2CLA%2CNK%2CTK%2CUA&page={}&fieldOrder=atrapalo&airports=LIM%2CBCN\".format(i+1))\n",
    "    time.sleep(10)"
   ]
  },
  {
   "cell_type": "code",
   "execution_count": 57,
   "id": "3110074d",
   "metadata": {},
   "outputs": [
    {
     "name": "stdout",
     "output_type": "stream",
     "text": [
      "Iniciamos el scraper.....\n",
      "La cantidad de vuelos que se encontraron en la primera pagina fueron de 7\n"
     ]
    }
   ],
   "source": [
    "def cuarta_pagina(driver):\n",
    "    print(\"Iniciamos el scraper.....\")\n",
    "    vuelos_4=driver.find_elements_by_xpath('//div[@class=\"sc-dJjYzT styles__CardContainer-sc-pp754f-1 dXjtCY eIAskt\"]')\n",
    "    print(f\"La cantidad de vuelos que se encontraron en la primera pagina fueron de {len(vuelos_4)}\")\n",
    "    \n",
    "    script= []\n",
    "    \n",
    "    for element in vuelos_4:\n",
    "        resultado=info(element)\n",
    "        script.append(resultado)\n",
    "    return script\n",
    "\n",
    "data3=cuarta_pagina(driver)\n"
   ]
  },
  {
   "cell_type": "code",
   "execution_count": 58,
   "id": "eba29d9a",
   "metadata": {},
   "outputs": [
    {
     "data": {
      "text/html": [
       "<div>\n",
       "<style scoped>\n",
       "    .dataframe tbody tr th:only-of-type {\n",
       "        vertical-align: middle;\n",
       "    }\n",
       "\n",
       "    .dataframe tbody tr th {\n",
       "        vertical-align: top;\n",
       "    }\n",
       "\n",
       "    .dataframe thead th {\n",
       "        text-align: right;\n",
       "    }\n",
       "</style>\n",
       "<table border=\"1\" class=\"dataframe\">\n",
       "  <thead>\n",
       "    <tr style=\"text-align: right;\">\n",
       "      <th></th>\n",
       "      <th>Aerolinea</th>\n",
       "      <th>Escalas</th>\n",
       "      <th>Duracion</th>\n",
       "      <th>Salida</th>\n",
       "      <th>Llegada</th>\n",
       "      <th>Persona</th>\n",
       "      <th>Origen</th>\n",
       "      <th>Destino</th>\n",
       "      <th>Precio</th>\n",
       "    </tr>\n",
       "  </thead>\n",
       "  <tbody>\n",
       "    <tr>\n",
       "      <th>0</th>\n",
       "      <td>LATAM Airlines</td>\n",
       "      <td>2 escalas</td>\n",
       "      <td>23h 25m</td>\n",
       "      <td>12:25</td>\n",
       "      <td>18:50\\n+1\\nBCN</td>\n",
       "      <td>por persona</td>\n",
       "      <td>LIM</td>\n",
       "      <td>BCN</td>\n",
       "      <td>USD2,399</td>\n",
       "    </tr>\n",
       "    <tr>\n",
       "      <th>1</th>\n",
       "      <td>LATAM Airlines</td>\n",
       "      <td>2 escalas</td>\n",
       "      <td>24h 10m</td>\n",
       "      <td>08:05</td>\n",
       "      <td>15:15\\n+1\\nBCN</td>\n",
       "      <td>por persona</td>\n",
       "      <td>LIM</td>\n",
       "      <td>BCN</td>\n",
       "      <td>USD2,513</td>\n",
       "    </tr>\n",
       "    <tr>\n",
       "      <th>2</th>\n",
       "      <td>LATAM Airlines</td>\n",
       "      <td>1 escala</td>\n",
       "      <td>26h 40m</td>\n",
       "      <td>00:20</td>\n",
       "      <td>10:00\\n+1\\nBCN</td>\n",
       "      <td>por persona</td>\n",
       "      <td>LIM</td>\n",
       "      <td>BCN</td>\n",
       "      <td>USD2,951</td>\n",
       "    </tr>\n",
       "    <tr>\n",
       "      <th>3</th>\n",
       "      <td>Aerolineas Argentinas</td>\n",
       "      <td>2 escalas</td>\n",
       "      <td>51h 30m</td>\n",
       "      <td>22:25</td>\n",
       "      <td>08:55\\n+3\\nBCN</td>\n",
       "      <td>por persona</td>\n",
       "      <td>LIM</td>\n",
       "      <td>BCN</td>\n",
       "      <td>USD2,773</td>\n",
       "    </tr>\n",
       "  </tbody>\n",
       "</table>\n",
       "</div>"
      ],
      "text/plain": [
       "               Aerolinea    Escalas Duracion Salida         Llegada  \\\n",
       "0         LATAM Airlines  2 escalas  23h 25m  12:25  18:50\\n+1\\nBCN   \n",
       "1         LATAM Airlines  2 escalas  24h 10m  08:05  15:15\\n+1\\nBCN   \n",
       "2         LATAM Airlines   1 escala  26h 40m  00:20  10:00\\n+1\\nBCN   \n",
       "3  Aerolineas Argentinas  2 escalas  51h 30m  22:25  08:55\\n+3\\nBCN   \n",
       "\n",
       "       Persona Origen Destino    Precio  \n",
       "0  por persona    LIM     BCN  USD2,399  \n",
       "1  por persona    LIM     BCN  USD2,513  \n",
       "2  por persona    LIM     BCN  USD2,951  \n",
       "3  por persona    LIM     BCN  USD2,773  "
      ]
     },
     "execution_count": 58,
     "metadata": {},
     "output_type": "execute_result"
    }
   ],
   "source": [
    "data_3=pd.DataFrame(data3)\n",
    "data_3.head(4)"
   ]
  },
  {
   "cell_type": "markdown",
   "id": "81b0d2b0",
   "metadata": {},
   "source": [
    "## 5. Creacion de un Dataframe"
   ]
  },
  {
   "cell_type": "code",
   "execution_count": 59,
   "id": "626259f9",
   "metadata": {},
   "outputs": [],
   "source": [
    "df=pd.concat([data_0,data_1,data_2,data_3], axis=0).reset_index(drop=True)\n",
    "#df.tail(6)"
   ]
  },
  {
   "cell_type": "code",
   "execution_count": 67,
   "id": "ca2879d2",
   "metadata": {},
   "outputs": [],
   "source": [
    "df.to_csv(\"output.csv\", index=False)"
   ]
  },
  {
   "cell_type": "code",
   "execution_count": 61,
   "id": "d864021f",
   "metadata": {},
   "outputs": [],
   "source": [
    "driver.quit()"
   ]
  },
  {
   "cell_type": "markdown",
   "id": "140b1a1d",
   "metadata": {},
   "source": [
    "## 6.Vuelos para el 9 de abril "
   ]
  },
  {
   "cell_type": "markdown",
   "id": "6069a778",
   "metadata": {},
   "source": [
    "* https://www.atrapalo.pe/ms/results?journeys=LIM%2CBCN%2C20220409&adults=1&children=0&babies=0&isResident=false&isLargeFamily=0&countryContext=PE&language=es_PE&transport_type=FLIGHT&app=ATRAPALO&test=B&companies=AR%2CAM%2CUX%2CAF%2CAA%2CAV%2CCM%2CDL%2CIB%2CB6%2CKL%2CLA%2CNK%2CTK%2CUA%2CVH&page=0"
   ]
  },
  {
   "cell_type": "code",
   "execution_count": 6,
   "id": "853204a1",
   "metadata": {},
   "outputs": [],
   "source": [
    "url=\"https://www.atrapalo.pe/ms/results?journeys=LIM%2CBCN%2C20220409&adults=1&children=0&babies=0&isResident=false&isLargeFamily=0&countryContext=PE&language=es_PE&transport_type=FLIGHT&app=ATRAPALO&test=B&companies=AR%2CAM%2CUX%2CAF%2CAA%2CAV%2CCM%2CDL%2CIB%2CB6%2CKL%2CLA%2CNK%2CTK%2CUA%2CVH&page=0\"\n",
    "driver=webdriver.Chrome(executable_path=\"C:/Selenium/chromedriver.exe\")\n",
    "driver.get(url)\n",
    "driver.maximize_window()\n",
    "time.sleep(10)"
   ]
  },
  {
   "cell_type": "code",
   "execution_count": 78,
   "id": "135e4c78",
   "metadata": {},
   "outputs": [],
   "source": [
    "page=driver.find_elements_by_xpath('//div[@class=\"sc-dJjYzT styles__CardContainer-sc-pp754f-1 dXjtCY eIAskt\"]')"
   ]
  },
  {
   "cell_type": "markdown",
   "id": "fb50c4fe",
   "metadata": {},
   "source": [
    "## 7.Extracion de todos los datos de todas las paginas encontradas."
   ]
  },
  {
   "cell_type": "code",
   "execution_count": 7,
   "id": "f69b8f86",
   "metadata": {
    "scrolled": false
   },
   "outputs": [
    {
     "name": "stdout",
     "output_type": "stream",
     "text": [
      "Scrapeamos la pagina: 1\n",
      "En la pagina 1 se encontraron 25\n",
      "{'Aerolinea': 'Aeromexico', 'Escalas': '2 escalas', 'Duracion': '26h 30m', 'Salida': '07:05', 'Llegada': '16:35\\n+1\\nBCN', 'Persona': 'por persona', 'Origen': 'LIM', 'Destino': 'BCN', 'Precio': 'USD607'}\n",
      "{'Aerolinea': 'LATAM Airlines', 'Escalas': '2 escalas', 'Duracion': '26h 10m', 'Salida': '00:20', 'Llegada': '09:30\\n+1\\nBCN', 'Persona': 'por persona', 'Origen': 'LIM', 'Destino': 'BCN', 'Precio': 'USD707'}\n",
      "{'Aerolinea': 'LATAM Airlines', 'Escalas': '2 escalas', 'Duracion': '29h 40m', 'Salida': '00:20', 'Llegada': '13:00\\n+1\\nBCN', 'Persona': 'por persona', 'Origen': 'LIM', 'Destino': 'BCN', 'Precio': 'USD707'}\n",
      "{'Aerolinea': 'Aeromexico', 'Escalas': '2 escalas', 'Duracion': '42h 50m', 'Salida': '07:05', 'Llegada': '08:55\\n+2\\nBCN', 'Persona': 'por persona', 'Origen': 'LIM', 'Destino': 'BCN', 'Precio': 'USD559'}\n",
      "{'Aerolinea': 'KLM Royal Dutch Airlines', 'Escalas': '1 escala', 'Duracion': '18h 05m', 'Salida': '19:55', 'Llegada': '21:00\\n+1\\nBCN', 'Persona': 'por persona', 'Origen': 'LIM', 'Destino': 'BCN', 'Precio': 'USD882'}\n",
      "{'Aerolinea': 'LATAM Airlines', 'Escalas': '2 escalas', 'Duracion': '34h 45m', 'Salida': '00:20', 'Llegada': '18:05\\n+1\\nBCN', 'Persona': 'por persona', 'Origen': 'LIM', 'Destino': 'BCN', 'Precio': 'USD707'}\n",
      "{'Aerolinea': 'LATAM Airlines', 'Escalas': '2 escalas', 'Duracion': '28h 35m', 'Salida': '00:20', 'Llegada': '11:55\\n+1\\nBCN', 'Persona': 'por persona', 'Origen': 'LIM', 'Destino': 'BCN', 'Precio': 'USD789'}\n",
      "{'Aerolinea': 'LATAM Airlines', 'Escalas': '2 escalas', 'Duracion': '36h 10m', 'Salida': '00:20', 'Llegada': '19:30\\n+1\\nBCN', 'Persona': 'por persona', 'Origen': 'LIM', 'Destino': 'BCN', 'Precio': 'USD707'}\n",
      "{'Aerolinea': 'American Airlines', 'Escalas': '2 escalas', 'Duracion': '23h 55m', 'Salida': '23:50', 'Llegada': '06:45\\n+2\\nBCN', 'Persona': 'por persona', 'Origen': 'LIM', 'Destino': 'BCN', 'Precio': 'USD875'}\n",
      "{'Aerolinea': 'LATAM Airlines', 'Escalas': '1 escala', 'Duracion': '28h 20m', 'Salida': '22:30', 'Llegada': '09:50\\n+2\\nBCN', 'Persona': 'por persona', 'Origen': 'LIM', 'Destino': 'BCN', 'Precio': 'USD825'}\n",
      "{'Aerolinea': 'Aeromexico', 'Escalas': '2 escalas', 'Duracion': '50h 30m', 'Salida': '07:05', 'Llegada': '16:35\\n+2\\nBCN', 'Persona': 'por persona', 'Origen': 'LIM', 'Destino': 'BCN', 'Precio': 'USD559'}\n",
      "{'Aerolinea': 'American Airlines', 'Escalas': '1 escala', 'Duracion': '24h 35m', 'Salida': '23:50', 'Llegada': '07:25\\n+2\\nBCN', 'Persona': 'por persona', 'Origen': 'LIM', 'Destino': 'BCN', 'Precio': 'USD875'}\n",
      "{'Aerolinea': 'LATAM Airlines', 'Escalas': '2 escalas', 'Duracion': '39h 45m', 'Salida': '00:20', 'Llegada': '23:05\\n+1\\nBCN', 'Persona': 'por persona', 'Origen': 'LIM', 'Destino': 'BCN', 'Precio': 'USD707'}\n",
      "{'Aerolinea': 'KLM Royal Dutch Airlines', 'Escalas': '1 escala', 'Duracion': '15h 55m', 'Salida': '19:55', 'Llegada': '18:50\\n+1\\nBCN', 'Persona': 'por persona', 'Origen': 'LIM', 'Destino': 'BCN', 'Precio': 'USD1,029'}\n",
      "{'Aerolinea': 'LATAM Airlines', 'Escalas': '1 escala', 'Duracion': '25h 40m', 'Salida': '00:20', 'Llegada': '09:00\\n+1\\nBCN', 'Persona': 'por persona', 'Origen': 'LIM', 'Destino': 'BCN', 'Precio': 'USD913'}\n",
      "{'Aerolinea': 'Avianca', 'Escalas': '2 escalas', 'Duracion': '18h 45m', 'Salida': '18:35', 'Llegada': '20:20\\n+1\\nBCN', 'Persona': 'por persona', 'Origen': 'LIM', 'Destino': 'BCN', 'Precio': 'USD1,005'}\n",
      "{'Aerolinea': 'United Airlines', 'Escalas': '2 escalas', 'Duracion': '35h 40m', 'Salida': '23:25', 'Llegada': '18:05\\n+2\\nBCN', 'Persona': 'por persona', 'Origen': 'LIM', 'Destino': 'BCN', 'Precio': 'USD810'}\n",
      "{'Aerolinea': 'Delta', 'Escalas': '1 escala', 'Duracion': '17h 00m', 'Salida': '09:00', 'Llegada': '09:00\\n+1\\nBCN', 'Persona': 'por persona', 'Origen': 'LIM', 'Destino': 'BCN', 'Precio': 'USD1,041'}\n",
      "{'Aerolinea': 'Avianca', 'Escalas': '1 escala', 'Duracion': '15h 05m', 'Salida': '11:05', 'Llegada': '09:10\\n+1\\nBCN', 'Persona': 'por persona', 'Origen': 'LIM', 'Destino': 'BCN', 'Precio': 'USD1,077'}\n",
      "{'Aerolinea': 'Iberia', 'Escalas': '1 escala', 'Duracion': '17h 45m', 'Salida': '19:35', 'Llegada': '20:20\\n+1\\nBCN', 'Persona': 'por persona', 'Origen': 'LIM', 'Destino': 'BCN', 'Precio': 'USD1,051'}\n",
      "{'Aerolinea': 'Aeromexico', 'Escalas': '2 escalas', 'Duracion': '33h 05m', 'Salida': '00:30', 'Llegada': '16:35\\n+1\\nBCN', 'Persona': 'por persona', 'Origen': 'LIM', 'Destino': 'BCN', 'Precio': 'USD908'}\n",
      "{'Aerolinea': 'Iberia', 'Escalas': '1 escala', 'Duracion': '20h 00m', 'Salida': '19:35', 'Llegada': '22:35\\n+1\\nBCN', 'Persona': 'por persona', 'Origen': 'LIM', 'Destino': 'BCN', 'Precio': 'USD1,067'}\n",
      "{'Aerolinea': 'Iberia', 'Escalas': '1 escala', 'Duracion': '16h 30m', 'Salida': '19:35', 'Llegada': '19:05\\n+1\\nBCN', 'Persona': 'por persona', 'Origen': 'LIM', 'Destino': 'BCN', 'Precio': 'USD1,125'}\n",
      "{'Aerolinea': 'LATAM Airlines', 'Escalas': '2 escalas', 'Duracion': '50h 10m', 'Salida': '00:20', 'Llegada': '09:30\\n+2\\nBCN', 'Persona': 'por persona', 'Origen': 'LIM', 'Destino': 'BCN', 'Precio': 'USD727'}\n",
      "{'Aerolinea': 'Avianca', 'Escalas': '2 escalas', 'Duracion': '20h 45m', 'Salida': '11:05', 'Llegada': '14:50\\n+1\\nBCN', 'Persona': 'por persona', 'Origen': 'LIM', 'Destino': 'BCN', 'Precio': 'USD1,091'}\n",
      "Scrapeamos la pagina: 2\n",
      "En la pagina 2 se encontraron 25\n",
      "{'Aerolinea': 'Air France', 'Escalas': '1 escala', 'Duracion': '16h 10m', 'Salida': '18:00', 'Llegada': '17:10\\n+1\\nBCN', 'Persona': 'por persona', 'Origen': 'LIM', 'Destino': 'BCN', 'Precio': 'USD1,150'}\n",
      "{'Aerolinea': 'LATAM Airlines', 'Escalas': '1 escala', 'Duracion': '14h 35m', 'Salida': '19:35', 'Llegada': '17:10\\n+1\\nBCN', 'Persona': 'por persona', 'Origen': 'LIM', 'Destino': 'BCN', 'Precio': 'USD1,170'}\n",
      "{'Aerolinea': 'LATAM Airlines', 'Escalas': '1 escala', 'Duracion': '26h 50m', 'Salida': '22:30', 'Llegada': '08:20\\n+2\\nBCN', 'Persona': 'por persona', 'Origen': 'LIM', 'Destino': 'BCN', 'Precio': 'USD1,025'}\n",
      "{'Aerolinea': 'LATAM Airlines', 'Escalas': '1 escala', 'Duracion': '14h 50m', 'Salida': '22:30', 'Llegada': '20:20\\n+1\\nBCN', 'Persona': 'por persona', 'Origen': 'LIM', 'Destino': 'BCN', 'Precio': 'USD1,170'}\n",
      "{'Aerolinea': 'LATAM Airlines', 'Escalas': '2 escalas', 'Duracion': '52h 30m', 'Salida': '00:20', 'Llegada': '11:50\\n+2\\nBCN', 'Persona': 'por persona', 'Origen': 'LIM', 'Destino': 'BCN', 'Precio': 'USD727'}\n",
      "{'Aerolinea': 'LATAM Airlines', 'Escalas': '1 escala', 'Duracion': '16h 15m', 'Salida': '19:35', 'Llegada': '18:50\\n+1\\nBCN', 'Persona': 'por persona', 'Origen': 'LIM', 'Destino': 'BCN', 'Precio': 'USD1,170'}\n",
      "{'Aerolinea': 'LATAM Airlines', 'Escalas': '2 escalas', 'Duracion': '53h 40m', 'Salida': '00:20', 'Llegada': '13:00\\n+2\\nBCN', 'Persona': 'por persona', 'Origen': 'LIM', 'Destino': 'BCN', 'Precio': 'USD727'}\n",
      "{'Aerolinea': 'LATAM Airlines', 'Escalas': '1 escala', 'Duracion': '17h 45m', 'Salida': '19:35', 'Llegada': '20:20\\n+1\\nBCN', 'Persona': 'por persona', 'Origen': 'LIM', 'Destino': 'BCN', 'Precio': 'USD1,170'}\n",
      "{'Aerolinea': 'LATAM Airlines', 'Escalas': '1 escala', 'Duracion': '18h 05m', 'Salida': '22:30', 'Llegada': '23:35\\n+1\\nBCN', 'Persona': 'por persona', 'Origen': 'LIM', 'Destino': 'BCN', 'Precio': 'USD1,170'}\n",
      "{'Aerolinea': 'LATAM Airlines', 'Escalas': '1 escala', 'Duracion': '27h 15m', 'Salida': '22:30', 'Llegada': '08:45\\n+2\\nBCN', 'Persona': 'por persona', 'Origen': 'LIM', 'Destino': 'BCN', 'Precio': 'USD1,070'}\n",
      "{'Aerolinea': 'KLM Royal Dutch Airlines', 'Escalas': '2 escalas', 'Duracion': '20h 00m', 'Salida': '18:00', 'Llegada': '21:00\\n+1\\nBCN', 'Persona': 'por persona', 'Origen': 'LIM', 'Destino': 'BCN', 'Precio': 'USD1,168'}\n",
      "{'Aerolinea': 'Air France', 'Escalas': '2 escalas', 'Duracion': '20h 00m', 'Salida': '19:55', 'Llegada': '22:55\\n+1\\nBCN', 'Persona': 'por persona', 'Origen': 'LIM', 'Destino': 'BCN', 'Precio': 'USD1,169'}\n",
      "{'Aerolinea': 'LATAM Airlines', 'Escalas': '2 escalas', 'Duracion': '21h 25m', 'Salida': '12:30', 'Llegada': '16:55\\n+1\\nBCN', 'Persona': 'por persona', 'Origen': 'LIM', 'Destino': 'BCN', 'Precio': 'USD1,157'}\n",
      "{'Aerolinea': 'LATAM Airlines', 'Escalas': '1 escala', 'Duracion': '29h 25m', 'Salida': '22:30', 'Llegada': '10:55\\n+2\\nBCN', 'Persona': 'por persona', 'Origen': 'LIM', 'Destino': 'BCN', 'Precio': 'USD1,070'}\n"
     ]
    },
    {
     "name": "stdout",
     "output_type": "stream",
     "text": [
      "{'Aerolinea': 'KLM Royal Dutch Airlines', 'Escalas': '2 escalas', 'Duracion': '20h 00m', 'Salida': '19:55', 'Llegada': '22:55\\n+1\\nBCN', 'Persona': 'por persona', 'Origen': 'LIM', 'Destino': 'BCN', 'Precio': 'USD1,186'}\n",
      "{'Aerolinea': 'Air Europa', 'Escalas': '1 escala', 'Duracion': '15h 35m', 'Salida': '10:20', 'Llegada': '08:55\\n+1\\nBCN', 'Persona': 'por persona', 'Origen': 'LIM', 'Destino': 'BCN', 'Precio': 'USD1,244'}\n",
      "{'Aerolinea': 'Iberia', 'Escalas': '1 escala', 'Duracion': '14h 30m', 'Salida': '19:35', 'Llegada': '17:05\\n+1\\nBCN', 'Persona': 'por persona', 'Origen': 'LIM', 'Destino': 'BCN', 'Precio': 'USD1,261'}\n",
      "{'Aerolinea': 'Avianca', 'Escalas': '1 escala', 'Duracion': '31h 35m', 'Salida': '18:35', 'Llegada': '09:10\\n+2\\nBCN', 'Persona': 'por persona', 'Origen': 'LIM', 'Destino': 'BCN', 'Precio': 'USD1,063'}\n",
      "{'Aerolinea': 'Avianca', 'Escalas': '2 escalas', 'Duracion': '41h 15m', 'Salida': '18:35', 'Llegada': '18:50\\n+2\\nBCN', 'Persona': 'por persona', 'Origen': 'LIM', 'Destino': 'BCN', 'Precio': 'USD993'}\n",
      "{'Aerolinea': 'Iberia', 'Escalas': '1 escala', 'Duracion': '14h 50m', 'Salida': '22:30', 'Llegada': '20:20\\n+1\\nBCN', 'Persona': 'por persona', 'Origen': 'LIM', 'Destino': 'BCN', 'Precio': 'USD1,322'}\n",
      "{'Aerolinea': 'LATAM Airlines', 'Escalas': '2 escalas', 'Duracion': '31h 50m', 'Salida': '00:20', 'Llegada': '15:10\\n+1\\nBCN', 'Persona': 'por persona', 'Origen': 'LIM', 'Destino': 'BCN', 'Precio': 'USD1,121'}\n",
      "{'Aerolinea': 'Aeromexico', 'Escalas': '2 escalas', 'Duracion': '49h 25m', 'Salida': '00:30', 'Llegada': '08:55\\n+2\\nBCN', 'Persona': 'por persona', 'Origen': 'LIM', 'Destino': 'BCN', 'Precio': 'USD916'}\n",
      "{'Aerolinea': 'LATAM Airlines', 'Escalas': '2 escalas', 'Duracion': '32h 45m', 'Salida': '00:20', 'Llegada': '16:05\\n+1\\nBCN', 'Persona': 'por persona', 'Origen': 'LIM', 'Destino': 'BCN', 'Precio': 'USD1,121'}\n",
      "{'Aerolinea': 'KLM Royal Dutch Airlines', 'Escalas': '2 escalas', 'Duracion': '17h 50m', 'Salida': '18:00', 'Llegada': '18:50\\n+1\\nBCN', 'Persona': 'por persona', 'Origen': 'LIM', 'Destino': 'BCN', 'Precio': 'USD1,323'}\n",
      "{'Aerolinea': 'Delta', 'Escalas': '2 escalas', 'Duracion': '42h 00m', 'Salida': '09:00', 'Llegada': '10:00\\n+2\\nBCN', 'Persona': 'por persona', 'Origen': 'LIM', 'Destino': 'BCN', 'Precio': 'USD1,041'}\n",
      "Scrapeamos la pagina: 3\n",
      "En la pagina 3 se encontraron 25\n",
      "{'Aerolinea': 'Aeromexico', 'Escalas': '2 escalas', 'Duracion': '57h 05m', 'Salida': '00:30', 'Llegada': '16:35\\n+2\\nBCN', 'Persona': 'por persona', 'Origen': 'LIM', 'Destino': 'BCN', 'Precio': 'USD916'}\n",
      "{'Aerolinea': 'Iberia', 'Escalas': '2 escalas', 'Duracion': '29h 15m', 'Salida': '22:30', 'Llegada': '10:45\\n+2\\nBCN', 'Persona': 'por persona', 'Origen': 'LIM', 'Destino': 'BCN', 'Precio': 'USD1,252'}\n",
      "{'Aerolinea': 'Avianca', 'Escalas': '2 escalas', 'Duracion': '38h 20m', 'Salida': '11:50', 'Llegada': '09:10\\n+2\\nBCN', 'Persona': 'por persona', 'Origen': 'LIM', 'Destino': 'BCN', 'Precio': 'USD1,165'}\n",
      "{'Aerolinea': 'LATAM Airlines', 'Escalas': '2 escalas', 'Duracion': '21h 45m', 'Salida': '12:25', 'Llegada': '17:10\\n+1\\nBCN', 'Persona': 'por persona', 'Origen': 'LIM', 'Destino': 'BCN', 'Precio': 'USD1,377'}\n",
      "{'Aerolinea': 'LATAM Airlines', 'Escalas': '2 escalas', 'Duracion': '23h 25m', 'Salida': '12:25', 'Llegada': '18:50\\n+1\\nBCN', 'Persona': 'por persona', 'Origen': 'LIM', 'Destino': 'BCN', 'Precio': 'USD1,377'}\n",
      "{'Aerolinea': 'LATAM Airlines', 'Escalas': '2 escalas', 'Duracion': '28h 15m', 'Salida': '00:40', 'Llegada': '11:55\\n+1\\nBCN', 'Persona': 'por persona', 'Origen': 'LIM', 'Destino': 'BCN', 'Precio': 'USD1,325'}\n",
      "{'Aerolinea': 'Avianca', 'Escalas': '2 escalas', 'Duracion': '28h 55m', 'Salida': '06:55', 'Llegada': '18:50\\n+1\\nBCN', 'Persona': 'por persona', 'Origen': 'LIM', 'Destino': 'BCN', 'Precio': 'USD1,321'}\n",
      "{'Aerolinea': 'LATAM Airlines', 'Escalas': '2 escalas', 'Duracion': '29h 20m', 'Salida': '00:40', 'Llegada': '13:00\\n+1\\nBCN', 'Persona': 'por persona', 'Origen': 'LIM', 'Destino': 'BCN', 'Precio': 'USD1,325'}\n",
      "{'Aerolinea': 'LATAM Airlines', 'Escalas': '2 escalas', 'Duracion': '47h 05m', 'Salida': '12:00', 'Llegada': '18:05\\n+2\\nBCN', 'Persona': 'por persona', 'Origen': 'LIM', 'Destino': 'BCN', 'Precio': 'USD1,121'}\n",
      "{'Aerolinea': 'LATAM Airlines', 'Escalas': '2 escalas', 'Duracion': '31h 30m', 'Salida': '00:40', 'Llegada': '15:10\\n+1\\nBCN', 'Persona': 'por persona', 'Origen': 'LIM', 'Destino': 'BCN', 'Precio': 'USD1,325'}\n",
      "{'Aerolinea': 'LATAM Airlines', 'Escalas': '2 escalas', 'Duracion': '32h 25m', 'Salida': '00:40', 'Llegada': '16:05\\n+1\\nBCN', 'Persona': 'por persona', 'Origen': 'LIM', 'Destino': 'BCN', 'Precio': 'USD1,325'}\n",
      "{'Aerolinea': 'LATAM Airlines', 'Escalas': '2 escalas', 'Duracion': '34h 25m', 'Salida': '00:40', 'Llegada': '18:05\\n+1\\nBCN', 'Persona': 'por persona', 'Origen': 'LIM', 'Destino': 'BCN', 'Precio': 'USD1,325'}\n",
      "{'Aerolinea': 'LATAM Airlines', 'Escalas': '2 escalas', 'Duracion': '35h 50m', 'Salida': '00:40', 'Llegada': '19:30\\n+1\\nBCN', 'Persona': 'por persona', 'Origen': 'LIM', 'Destino': 'BCN', 'Precio': 'USD1,325'}\n",
      "{'Aerolinea': 'Avianca', 'Escalas': '2 escalas', 'Duracion': '22h 55m', 'Salida': '06:55', 'Llegada': '12:50\\n+1\\nBCN', 'Persona': 'por persona', 'Origen': 'LIM', 'Destino': 'BCN', 'Precio': 'USD1,500'}\n",
      "{'Aerolinea': 'Avianca', 'Escalas': '2 escalas', 'Duracion': '21h 20m', 'Salida': '18:35', 'Llegada': '22:55\\n+1\\nBCN', 'Persona': 'por persona', 'Origen': 'LIM', 'Destino': 'BCN', 'Precio': 'USD1,539'}\n",
      "{'Aerolinea': 'Avianca', 'Escalas': '2 escalas', 'Duracion': '24h 55m', 'Salida': '06:55', 'Llegada': '14:50\\n+1\\nBCN', 'Persona': 'por persona', 'Origen': 'LIM', 'Destino': 'BCN', 'Precio': 'USD1,500'}\n",
      "{'Aerolinea': 'LATAM Airlines', 'Escalas': '2 escalas', 'Duracion': '39h 25m', 'Salida': '00:40', 'Llegada': '23:05\\n+1\\nBCN', 'Persona': 'por persona', 'Origen': 'LIM', 'Destino': 'BCN', 'Precio': 'USD1,339'}\n",
      "{'Aerolinea': 'LATAM Airlines', 'Escalas': '2 escalas', 'Duracion': '45h 00m', 'Salida': '12:00', 'Llegada': '16:00\\n+2\\nBCN', 'Persona': 'por persona', 'Origen': 'LIM', 'Destino': 'BCN', 'Precio': 'USD1,274'}\n",
      "{'Aerolinea': 'LATAM Airlines', 'Escalas': '2 escalas', 'Duracion': '40h 50m', 'Salida': '12:00', 'Llegada': '11:50\\n+2\\nBCN', 'Persona': 'por persona', 'Origen': 'LIM', 'Destino': 'BCN', 'Precio': 'USD1,325'}\n",
      "{'Aerolinea': 'LATAM Airlines', 'Escalas': '2 escalas', 'Duracion': '42h 00m', 'Salida': '12:00', 'Llegada': '13:00\\n+2\\nBCN', 'Persona': 'por persona', 'Origen': 'LIM', 'Destino': 'BCN', 'Precio': 'USD1,325'}\n",
      "{'Aerolinea': 'LATAM Airlines', 'Escalas': '2 escalas', 'Duracion': '44h 15m', 'Salida': '12:00', 'Llegada': '15:15\\n+2\\nBCN', 'Persona': 'por persona', 'Origen': 'LIM', 'Destino': 'BCN', 'Precio': 'USD1,325'}\n",
      "{'Aerolinea': 'LATAM Airlines', 'Escalas': '2 escalas', 'Duracion': '26h 50m', 'Salida': '22:55', 'Llegada': '08:45\\n+2\\nBCN', 'Persona': 'por persona', 'Origen': 'LIM', 'Destino': 'BCN', 'Precio': 'USD1,579'}\n",
      "{'Aerolinea': 'LATAM Airlines', 'Escalas': '1 escala', 'Duracion': '14h 30m', 'Salida': '19:35', 'Llegada': '17:05\\n+1\\nBCN', 'Persona': 'por persona', 'Origen': 'LIM', 'Destino': 'BCN', 'Precio': 'USD1,739'}\n",
      "{'Aerolinea': 'LATAM Airlines', 'Escalas': '2 escalas', 'Duracion': '49h 50m', 'Salida': '00:40', 'Llegada': '09:30\\n+2\\nBCN', 'Persona': 'por persona', 'Origen': 'LIM', 'Destino': 'BCN', 'Precio': 'USD1,345'}\n",
      "{'Aerolinea': 'LATAM Airlines', 'Escalas': '2 escalas', 'Duracion': '21h 40m', 'Salida': '12:25', 'Llegada': '17:05\\n+1\\nBCN', 'Persona': 'por persona', 'Origen': 'LIM', 'Destino': 'BCN', 'Precio': 'USD1,739'}\n",
      "Scrapeamos la pagina: 4\n",
      "En la pagina 4 se encontraron 17\n",
      "{'Aerolinea': 'LATAM Airlines', 'Escalas': '2 escalas', 'Duracion': '17h 25m', 'Salida': '12:25', 'Llegada': '12:50\\n+1\\nBCN', 'Persona': 'por persona', 'Origen': 'LIM', 'Destino': 'BCN', 'Precio': 'USD1,927'}\n",
      "{'Aerolinea': 'Avianca', 'Escalas': '2 escalas', 'Duracion': '27h 10m', 'Salida': '06:55', 'Llegada': '17:05\\n+1\\nBCN', 'Persona': 'por persona', 'Origen': 'LIM', 'Destino': 'BCN', 'Precio': 'USD1,927'}\n",
      "{'Aerolinea': 'LATAM Airlines', 'Escalas': '2 escalas', 'Duracion': '25h 15m', 'Salida': '00:25', 'Llegada': '08:40\\n+1\\nBCN', 'Persona': 'por persona', 'Origen': 'LIM', 'Destino': 'BCN', 'Precio': 'USD1,996'}\n"
     ]
    },
    {
     "name": "stdout",
     "output_type": "stream",
     "text": [
      "{'Aerolinea': 'LATAM Airlines', 'Escalas': '2 escalas', 'Duracion': '51h 05m', 'Salida': '23:25', 'Llegada': '09:30\\n+3\\nBCN', 'Persona': 'por persona', 'Origen': 'LIM', 'Destino': 'BCN', 'Precio': 'USD1,751'}\n",
      "{'Aerolinea': 'LATAM Airlines', 'Escalas': '2 escalas', 'Duracion': '23h 35m', 'Salida': '16:00', 'Llegada': '22:35\\n+1\\nBCN', 'Persona': 'por persona', 'Origen': 'LIM', 'Destino': 'BCN', 'Precio': 'USD2,214'}\n",
      "{'Aerolinea': 'LATAM Airlines', 'Escalas': '1 escala', 'Duracion': '23h 45m', 'Salida': '00:40', 'Llegada': '07:25\\n+1\\nBCN', 'Persona': 'por persona', 'Origen': 'LIM', 'Destino': 'BCN', 'Precio': 'USD2,326'}\n",
      "{'Aerolinea': 'LATAM Airlines', 'Escalas': '2 escalas', 'Duracion': '32h 50m', 'Salida': '23:25', 'Llegada': '15:15\\n+2\\nBCN', 'Persona': 'por persona', 'Origen': 'LIM', 'Destino': 'BCN', 'Precio': 'USD2,517'}\n",
      "{'Aerolinea': 'Air France', 'Escalas': '2 escalas', 'Duracion': '17h 50m', 'Salida': '18:00', 'Llegada': '18:50\\n+1\\nBCN', 'Persona': 'por persona', 'Origen': 'LIM', 'Destino': 'BCN', 'Precio': 'USD2,850'}\n",
      "{'Aerolinea': 'LATAM Airlines', 'Escalas': '1 escala', 'Duracion': '17h 00m', 'Salida': '09:00', 'Llegada': '09:00\\n+1\\nBCN', 'Persona': 'por persona', 'Origen': 'LIM', 'Destino': 'BCN', 'Precio': 'USD2,951'}\n",
      "{'Aerolinea': 'LATAM Airlines', 'Escalas': '1 escala', 'Duracion': '26h 40m', 'Salida': '00:20', 'Llegada': '10:00\\n+1\\nBCN', 'Persona': 'por persona', 'Origen': 'LIM', 'Destino': 'BCN', 'Precio': 'USD2,951'}\n",
      "{'Aerolinea': 'Aerolineas Argentinas', 'Escalas': '2 escalas', 'Duracion': '51h 30m', 'Salida': '22:25', 'Llegada': '08:55\\n+3\\nBCN', 'Persona': 'por persona', 'Origen': 'LIM', 'Destino': 'BCN', 'Precio': 'USD2,777'}\n",
      "{'Aerolinea': 'Copa Airlines', 'Escalas': '2 escalas', 'Duracion': '24h 51m', 'Salida': '01:09', 'Llegada': '09:00\\n+1\\nBCN', 'Persona': 'por persona', 'Origen': 'LIM', 'Destino': 'BCN', 'Precio': 'USD3,232'}\n",
      "{'Aerolinea': 'Copa Airlines', 'Escalas': '2 escalas', 'Duracion': '25h 01m', 'Salida': '00:59', 'Llegada': '09:00\\n+1\\nBCN', 'Persona': 'por persona', 'Origen': 'LIM', 'Destino': 'BCN', 'Precio': 'USD3,232'}\n",
      "{'Aerolinea': 'Avianca', 'Escalas': '2 escalas', 'Duracion': '18h 45m', 'Salida': '11:05', 'Llegada': '12:50\\n+1\\nBCN', 'Persona': 'por persona', 'Origen': 'LIM', 'Destino': 'BCN', 'Precio': 'USD4,571'}\n",
      "{'Aerolinea': 'Avianca', 'Escalas': '2 escalas', 'Duracion': '23h 00m', 'Salida': '11:05', 'Llegada': '17:05\\n+1\\nBCN', 'Persona': 'por persona', 'Origen': 'LIM', 'Destino': 'BCN', 'Precio': 'USD4,571'}\n",
      "{'Aerolinea': 'Air France', 'Escalas': '2 escalas', 'Duracion': '20h 50m', 'Salida': '18:00', 'Llegada': '21:50\\n+1\\nBCN', 'Persona': 'por persona', 'Origen': 'LIM', 'Destino': 'BCN', 'Precio': 'USD6,120'}\n",
      "{'Aerolinea': 'LATAM Airlines', 'Escalas': '1 escala', 'Duracion': '21h 40m', 'Salida': '09:05', 'Llegada': '13:45\\n+1\\nBCN', 'Persona': 'por persona', 'Origen': 'LIM', 'Destino': 'BCN', 'Precio': 'USD14,189'}\n",
      "Numero total de elementos encontrados 92\n"
     ]
    }
   ],
   "source": [
    "try:\n",
    "    contador=0\n",
    "    informacion = []\n",
    "    \n",
    "    for i in range(0,4):\n",
    "        print(f\"Scrapeamos la pagina: {i+1}\")\n",
    "        driver.get(\"https://www.atrapalo.pe/ms/results?journeys=LIM%2CBCN%2C20220409&adults=1&children=0&babies=0&isResident=false&isLargeFamily=0&countryContext=PE&language=es_PE&transport_type=FLIGHT&app=ATRAPALO&test=B&companies=AR%2CAM%2CUX%2CAF%2CAA%2CAV%2CCM%2CDL%2CIB%2CB6%2CKL%2CLA%2CNK%2CTK%2CUA%2CVH&page={}\".format(i))\n",
    "        time.sleep(10)\n",
    "        pages=driver.find_elements_by_xpath('//div[@class=\"sc-dJjYzT styles__CardContainer-sc-pp754f-1 dXjtCY eIAskt\"]')\n",
    "        print(f\"En la pagina {i+1} se encontraron {len(pages)}\")\n",
    "        contador=contador+len(pages)\n",
    "        \n",
    "        for element in pages:\n",
    "            \n",
    "            aerolinea=element.find_element_by_xpath('.//div[@class=\"sc-dlVxhl styles__CompanyContainer-sc-11cw88s-0 ktswCS evvPTk styles__StyledCompany-sc-1ornisu-1 hYVtEY\"]/span').text\n",
    "            escalas=element.find_element_by_xpath('.//div[@class=\"TagContainer-sc-153d48d-0 bcVhUV\"]/span').text\n",
    "            duracion=element.find_element_by_xpath('.//div[@class=\"sc-dlVxhl styles__ScaleContainer-sc-e2vz5e-1 ieiYOS gYgLzi\"]/span').text\n",
    "            salida=element.find_element_by_xpath('.//span[@class=\"sc-hBUSln darCtt JourneyTime__HourFont-sc-1ej0v4k-1 cjymPo\"]/span').text\n",
    "            llegada=element.find_element_by_xpath(\".//div[@class='sc-dlVxhl styles__ContainerInfoJourney-sc-e2vz5e-0 ktswCS eTvHQZ']/div[contains(@class,'jrxQKb')]\").text\n",
    "            persona=element.find_element_by_xpath('.//span[@class=\"sc-hBUSln darCtt styles__TripText-sc-1hhvl2t-4 ctPRqH\"]').text\n",
    "            origen=element.find_element_by_xpath('//*[@id=\"container-searchResult\"]/div/div[4]/div/div/div[1]/div/div/div[1]/div[1]/div/div/div[3]/div/div[1]/span[2]').text\n",
    "            destino=element.find_element_by_xpath('//*[@id=\"container-searchResult\"]/div/div[4]/div/div/div[1]/div/div/div[1]/div[1]/div/div/div[3]/div/div[3]/span[2]').text\n",
    "            precio=element.find_element_by_xpath('.//span[@class=\"sc-hBUSln darCtt styles__Price-sc-1hhvl2t-3 HraOy\"]/span[1]').text\n",
    "\n",
    "            dict_info = {\n",
    "                \"Aerolinea\":aerolinea,\n",
    "                \"Escalas\":escalas,\n",
    "                \"Duracion\":duracion,\n",
    "                \"Salida\":salida,\n",
    "                \"Llegada\":llegada,\n",
    "                \"Persona\":persona,\n",
    "                \"Origen\":origen,\n",
    "                \"Destino\":destino,\n",
    "                \"Precio\":precio\n",
    "                        }\n",
    "            \n",
    "            print(dict_info)\n",
    "        \n",
    "    \n",
    "    print(f\"Numero total de elementos encontrados {contador}\")\n",
    "    #driver.quit()\n",
    "        \n",
    "except Exception:\n",
    "    print(\"Upss hubo un error en el codigo o en la pagina.....\")\n",
    "    driver.quit()    "
   ]
  },
  {
   "cell_type": "code",
   "execution_count": 8,
   "id": "0ce86b46",
   "metadata": {},
   "outputs": [],
   "source": [
    "driver.quit()"
   ]
  },
  {
   "cell_type": "code",
   "execution_count": 18,
   "id": "81644453",
   "metadata": {},
   "outputs": [],
   "source": [
    "lista_1 = [{'Aerolinea': 'Aeromexico', 'Escalas': '2 escalas', 'Duracion': '26h 30m', 'Salida': '07:05', 'Llegada': '16:35\\n+1\\nBCN', 'Persona': 'por persona', 'Origen': 'LIM', 'Destino': 'BCN', 'Precio': 'USD607'},\n",
    "{'Aerolinea': 'LATAM Airlines', 'Escalas': '2 escalas', 'Duracion': '26h 10m', 'Salida': '00:20', 'Llegada': '09:30\\n+1\\nBCN', 'Persona': 'por persona', 'Origen': 'LIM', 'Destino': 'BCN', 'Precio': 'USD707'},\n",
    "{'Aerolinea': 'LATAM Airlines', 'Escalas': '2 escalas', 'Duracion': '29h 40m', 'Salida': '00:20', 'Llegada': '13:00\\n+1\\nBCN', 'Persona': 'por persona', 'Origen': 'LIM', 'Destino': 'BCN', 'Precio': 'USD707'},\n",
    "{'Aerolinea': 'Aeromexico', 'Escalas': '2 escalas', 'Duracion': '42h 50m', 'Salida': '07:05', 'Llegada': '08:55\\n+2\\nBCN', 'Persona': 'por persona', 'Origen': 'LIM', 'Destino': 'BCN', 'Precio': 'USD559'},\n",
    "{'Aerolinea': 'KLM Royal Dutch Airlines', 'Escalas': '1 escala', 'Duracion': '18h 05m', 'Salida': '19:55', 'Llegada': '21:00\\n+1\\nBCN', 'Persona': 'por persona', 'Origen': 'LIM', 'Destino': 'BCN', 'Precio': 'USD882'},\n",
    "{'Aerolinea': 'LATAM Airlines', 'Escalas': '2 escalas', 'Duracion': '34h 45m', 'Salida': '00:20', 'Llegada': '18:05\\n+1\\nBCN', 'Persona': 'por persona', 'Origen': 'LIM', 'Destino': 'BCN', 'Precio': 'USD707'},\n",
    "{'Aerolinea': 'LATAM Airlines', 'Escalas': '2 escalas', 'Duracion': '28h 35m', 'Salida': '00:20', 'Llegada': '11:55\\n+1\\nBCN', 'Persona': 'por persona', 'Origen': 'LIM', 'Destino': 'BCN', 'Precio': 'USD789'},\n",
    "{'Aerolinea': 'LATAM Airlines', 'Escalas': '2 escalas', 'Duracion': '36h 10m', 'Salida': '00:20', 'Llegada': '19:30\\n+1\\nBCN', 'Persona': 'por persona', 'Origen': 'LIM', 'Destino': 'BCN', 'Precio': 'USD707'},\n",
    "{'Aerolinea': 'American Airlines', 'Escalas': '2 escalas', 'Duracion': '23h 55m', 'Salida': '23:50', 'Llegada': '06:45\\n+2\\nBCN', 'Persona': 'por persona', 'Origen': 'LIM', 'Destino': 'BCN', 'Precio': 'USD875'},\n",
    "{'Aerolinea': 'LATAM Airlines', 'Escalas': '1 escala', 'Duracion': '28h 20m', 'Salida': '22:30', 'Llegada': '09:50\\n+2\\nBCN', 'Persona': 'por persona', 'Origen': 'LIM', 'Destino': 'BCN', 'Precio': 'USD825'},\n",
    "{'Aerolinea': 'Aeromexico', 'Escalas': '2 escalas', 'Duracion': '50h 30m', 'Salida': '07:05', 'Llegada': '16:35\\n+2\\nBCN', 'Persona': 'por persona', 'Origen': 'LIM', 'Destino': 'BCN', 'Precio': 'USD559'},\n",
    "{'Aerolinea': 'American Airlines', 'Escalas': '1 escala', 'Duracion': '24h 35m', 'Salida': '23:50', 'Llegada': '07:25\\n+2\\nBCN', 'Persona': 'por persona', 'Origen': 'LIM', 'Destino': 'BCN', 'Precio': 'USD875'},\n",
    "{'Aerolinea': 'LATAM Airlines', 'Escalas': '2 escalas', 'Duracion': '39h 45m', 'Salida': '00:20', 'Llegada': '23:05\\n+1\\nBCN', 'Persona': 'por persona', 'Origen': 'LIM', 'Destino': 'BCN', 'Precio': 'USD707'},\n",
    "{'Aerolinea': 'KLM Royal Dutch Airlines', 'Escalas': '1 escala', 'Duracion': '15h 55m', 'Salida': '19:55', 'Llegada': '18:50\\n+1\\nBCN', 'Persona': 'por persona', 'Origen': 'LIM', 'Destino': 'BCN', 'Precio': 'USD1,029'},\n",
    "{'Aerolinea': 'LATAM Airlines', 'Escalas': '1 escala', 'Duracion': '25h 40m', 'Salida': '00:20', 'Llegada': '09:00\\n+1\\nBCN', 'Persona': 'por persona', 'Origen': 'LIM', 'Destino': 'BCN', 'Precio': 'USD913'},\n",
    "{'Aerolinea': 'Avianca', 'Escalas': '2 escalas', 'Duracion': '18h 45m', 'Salida': '18:35', 'Llegada': '20:20\\n+1\\nBCN', 'Persona': 'por persona', 'Origen': 'LIM', 'Destino': 'BCN', 'Precio': 'USD1,005'},\n",
    "{'Aerolinea': 'United Airlines', 'Escalas': '2 escalas', 'Duracion': '35h 40m', 'Salida': '23:25', 'Llegada': '18:05\\n+2\\nBCN', 'Persona': 'por persona', 'Origen': 'LIM', 'Destino': 'BCN', 'Precio': 'USD810'},\n",
    "{'Aerolinea': 'Delta', 'Escalas': '1 escala', 'Duracion': '17h 00m', 'Salida': '09:00', 'Llegada': '09:00\\n+1\\nBCN', 'Persona': 'por persona', 'Origen': 'LIM', 'Destino': 'BCN', 'Precio': 'USD1,041'},\n",
    "{'Aerolinea': 'Avianca', 'Escalas': '1 escala', 'Duracion': '15h 05m', 'Salida': '11:05', 'Llegada': '09:10\\n+1\\nBCN', 'Persona': 'por persona', 'Origen': 'LIM', 'Destino': 'BCN', 'Precio': 'USD1,077'},\n",
    "{'Aerolinea': 'Iberia', 'Escalas': '1 escala', 'Duracion': '17h 45m', 'Salida': '19:35', 'Llegada': '20:20\\n+1\\nBCN', 'Persona': 'por persona', 'Origen': 'LIM', 'Destino': 'BCN', 'Precio': 'USD1,051'},\n",
    "{'Aerolinea': 'Aeromexico', 'Escalas': '2 escalas', 'Duracion': '33h 05m', 'Salida': '00:30', 'Llegada': '16:35\\n+1\\nBCN', 'Persona': 'por persona', 'Origen': 'LIM', 'Destino': 'BCN', 'Precio': 'USD908'},\n",
    "{'Aerolinea': 'Iberia', 'Escalas': '1 escala', 'Duracion': '20h 00m', 'Salida': '19:35', 'Llegada': '22:35\\n+1\\nBCN', 'Persona': 'por persona', 'Origen': 'LIM', 'Destino': 'BCN', 'Precio': 'USD1,067'},\n",
    "{'Aerolinea': 'Iberia', 'Escalas': '1 escala', 'Duracion': '16h 30m', 'Salida': '19:35', 'Llegada': '19:05\\n+1\\nBCN', 'Persona': 'por persona', 'Origen': 'LIM', 'Destino': 'BCN', 'Precio': 'USD1,125'},\n",
    "{'Aerolinea': 'LATAM Airlines', 'Escalas': '2 escalas', 'Duracion': '50h 10m', 'Salida': '00:20', 'Llegada': '09:30\\n+2\\nBCN', 'Persona': 'por persona', 'Origen': 'LIM', 'Destino': 'BCN', 'Precio': 'USD727'},\n",
    "{'Aerolinea': 'Avianca', 'Escalas': '2 escalas', 'Duracion': '20h 45m', 'Salida': '11:05', 'Llegada': '14:50\\n+1\\nBCN', 'Persona': 'por persona', 'Origen': 'LIM', 'Destino': 'BCN', 'Precio': 'USD1,091'}]"
   ]
  },
  {
   "cell_type": "code",
   "execution_count": 22,
   "id": "8f95cb64",
   "metadata": {},
   "outputs": [],
   "source": [
    "lista_2 = [{'Aerolinea': 'Air France', 'Escalas': '1 escala', 'Duracion': '16h 10m', 'Salida': '18:00', 'Llegada': '17:10\\n+1\\nBCN', 'Persona': 'por persona', 'Origen': 'LIM', 'Destino': 'BCN', 'Precio': 'USD1,150'},\n",
    "{'Aerolinea': 'LATAM Airlines', 'Escalas': '1 escala', 'Duracion': '14h 35m', 'Salida': '19:35', 'Llegada': '17:10\\n+1\\nBCN', 'Persona': 'por persona', 'Origen': 'LIM', 'Destino': 'BCN', 'Precio': 'USD1,170'},\n",
    "{'Aerolinea': 'LATAM Airlines', 'Escalas': '1 escala', 'Duracion': '26h 50m', 'Salida': '22:30', 'Llegada': '08:20\\n+2\\nBCN', 'Persona': 'por persona', 'Origen': 'LIM', 'Destino': 'BCN', 'Precio': 'USD1,025'},\n",
    "{'Aerolinea': 'LATAM Airlines', 'Escalas': '1 escala', 'Duracion': '14h 50m', 'Salida': '22:30', 'Llegada': '20:20\\n+1\\nBCN', 'Persona': 'por persona', 'Origen': 'LIM', 'Destino': 'BCN', 'Precio': 'USD1,170'},\n",
    "{'Aerolinea': 'LATAM Airlines', 'Escalas': '2 escalas', 'Duracion': '52h 30m', 'Salida': '00:20', 'Llegada': '11:50\\n+2\\nBCN', 'Persona': 'por persona', 'Origen': 'LIM', 'Destino': 'BCN', 'Precio': 'USD727'},\n",
    "{'Aerolinea': 'LATAM Airlines', 'Escalas': '1 escala', 'Duracion': '16h 15m', 'Salida': '19:35', 'Llegada': '18:50\\n+1\\nBCN', 'Persona': 'por persona', 'Origen': 'LIM', 'Destino': 'BCN', 'Precio': 'USD1,170'},\n",
    "{'Aerolinea': 'LATAM Airlines', 'Escalas': '2 escalas', 'Duracion': '53h 40m', 'Salida': '00:20', 'Llegada': '13:00\\n+2\\nBCN', 'Persona': 'por persona', 'Origen': 'LIM', 'Destino': 'BCN', 'Precio': 'USD727'},\n",
    "{'Aerolinea': 'LATAM Airlines', 'Escalas': '1 escala', 'Duracion': '17h 45m', 'Salida': '19:35', 'Llegada': '20:20\\n+1\\nBCN', 'Persona': 'por persona', 'Origen': 'LIM', 'Destino': 'BCN', 'Precio': 'USD1,170'},\n",
    "{'Aerolinea': 'LATAM Airlines', 'Escalas': '1 escala', 'Duracion': '18h 05m', 'Salida': '22:30', 'Llegada': '23:35\\n+1\\nBCN', 'Persona': 'por persona', 'Origen': 'LIM', 'Destino': 'BCN', 'Precio': 'USD1,170'},\n",
    "{'Aerolinea': 'LATAM Airlines', 'Escalas': '1 escala', 'Duracion': '27h 15m', 'Salida': '22:30', 'Llegada': '08:45\\n+2\\nBCN', 'Persona': 'por persona', 'Origen': 'LIM', 'Destino': 'BCN', 'Precio': 'USD1,070'},\n",
    "{'Aerolinea': 'KLM Royal Dutch Airlines', 'Escalas': '2 escalas', 'Duracion': '20h 00m', 'Salida': '18:00', 'Llegada': '21:00\\n+1\\nBCN', 'Persona': 'por persona', 'Origen': 'LIM', 'Destino': 'BCN', 'Precio': 'USD1,168'},\n",
    "{'Aerolinea': 'Air France', 'Escalas': '2 escalas', 'Duracion': '20h 00m', 'Salida': '19:55', 'Llegada': '22:55\\n+1\\nBCN', 'Persona': 'por persona', 'Origen': 'LIM', 'Destino': 'BCN', 'Precio': 'USD1,169'},\n",
    "{'Aerolinea': 'LATAM Airlines', 'Escalas': '2 escalas', 'Duracion': '21h 25m', 'Salida': '12:30', 'Llegada': '16:55\\n+1\\nBCN', 'Persona': 'por persona', 'Origen': 'LIM', 'Destino': 'BCN', 'Precio': 'USD1,157'},\n",
    "{'Aerolinea': 'LATAM Airlines', 'Escalas': '1 escala', 'Duracion': '29h 25m', 'Salida': '22:30', 'Llegada': '10:55\\n+2\\nBCN', 'Persona': 'por persona', 'Origen': 'LIM', 'Destino': 'BCN', 'Precio': 'USD1,070'},\n",
    "{'Aerolinea': 'KLM Royal Dutch Airlines', 'Escalas': '2 escalas', 'Duracion': '20h 00m', 'Salida': '19:55', 'Llegada': '22:55\\n+1\\nBCN', 'Persona': 'por persona', 'Origen': 'LIM', 'Destino': 'BCN', 'Precio': 'USD1,186'},\n",
    "{'Aerolinea': 'Air Europa', 'Escalas': '1 escala', 'Duracion': '15h 35m', 'Salida': '10:20', 'Llegada': '08:55\\n+1\\nBCN', 'Persona': 'por persona', 'Origen': 'LIM', 'Destino': 'BCN', 'Precio': 'USD1,244'},\n",
    "{'Aerolinea': 'Iberia', 'Escalas': '1 escala', 'Duracion': '14h 30m', 'Salida': '19:35', 'Llegada': '17:05\\n+1\\nBCN', 'Persona': 'por persona', 'Origen': 'LIM', 'Destino': 'BCN', 'Precio': 'USD1,261'},\n",
    "{'Aerolinea': 'Avianca', 'Escalas': '1 escala', 'Duracion': '31h 35m', 'Salida': '18:35', 'Llegada': '09:10\\n+2\\nBCN', 'Persona': 'por persona', 'Origen': 'LIM', 'Destino': 'BCN', 'Precio': 'USD1,063'},\n",
    "{'Aerolinea': 'Avianca', 'Escalas': '2 escalas', 'Duracion': '41h 15m', 'Salida': '18:35', 'Llegada': '18:50\\n+2\\nBCN', 'Persona': 'por persona', 'Origen': 'LIM', 'Destino': 'BCN', 'Precio': 'USD993'},\n",
    "{'Aerolinea': 'Iberia', 'Escalas': '1 escala', 'Duracion': '14h 50m', 'Salida': '22:30', 'Llegada': '20:20\\n+1\\nBCN', 'Persona': 'por persona', 'Origen': 'LIM', 'Destino': 'BCN', 'Precio': 'USD1,322'},\n",
    "{'Aerolinea': 'LATAM Airlines', 'Escalas': '2 escalas', 'Duracion': '31h 50m', 'Salida': '00:20', 'Llegada': '15:10\\n+1\\nBCN', 'Persona': 'por persona', 'Origen': 'LIM', 'Destino': 'BCN', 'Precio': 'USD1,121'},\n",
    "{'Aerolinea': 'Aeromexico', 'Escalas': '2 escalas', 'Duracion': '49h 25m', 'Salida': '00:30', 'Llegada': '08:55\\n+2\\nBCN', 'Persona': 'por persona', 'Origen': 'LIM', 'Destino': 'BCN', 'Precio': 'USD916'},\n",
    "{'Aerolinea': 'LATAM Airlines', 'Escalas': '2 escalas', 'Duracion': '32h 45m', 'Salida': '00:20', 'Llegada': '16:05\\n+1\\nBCN', 'Persona': 'por persona', 'Origen': 'LIM', 'Destino': 'BCN', 'Precio': 'USD1,121'},\n",
    "{'Aerolinea': 'KLM Royal Dutch Airlines', 'Escalas': '2 escalas', 'Duracion': '17h 50m', 'Salida': '18:00', 'Llegada': '18:50\\n+1\\nBCN', 'Persona': 'por persona', 'Origen': 'LIM', 'Destino': 'BCN', 'Precio': 'USD1,323'},\n",
    "{'Aerolinea': 'Delta', 'Escalas': '2 escalas', 'Duracion': '42h 00m', 'Salida': '09:00', 'Llegada': '10:00\\n+2\\nBCN', 'Persona': 'por persona', 'Origen': 'LIM', 'Destino': 'BCN', 'Precio': 'USD1,041'}]"
   ]
  },
  {
   "cell_type": "code",
   "execution_count": 25,
   "id": "8da17513",
   "metadata": {},
   "outputs": [],
   "source": [
    "lista_3 = [{'Aerolinea': 'Aeromexico', 'Escalas': '2 escalas', 'Duracion': '57h 05m', 'Salida': '00:30', 'Llegada': '16:35\\n+2\\nBCN', 'Persona': 'por persona', 'Origen': 'LIM', 'Destino': 'BCN', 'Precio': 'USD916'},\n",
    "{'Aerolinea': 'Iberia', 'Escalas': '2 escalas', 'Duracion': '29h 15m', 'Salida': '22:30', 'Llegada': '10:45\\n+2\\nBCN', 'Persona': 'por persona', 'Origen': 'LIM', 'Destino': 'BCN', 'Precio': 'USD1,252'},\n",
    "{'Aerolinea': 'Avianca', 'Escalas': '2 escalas', 'Duracion': '38h 20m', 'Salida': '11:50', 'Llegada': '09:10\\n+2\\nBCN', 'Persona': 'por persona', 'Origen': 'LIM', 'Destino': 'BCN', 'Precio': 'USD1,165'},\n",
    "{'Aerolinea': 'LATAM Airlines', 'Escalas': '2 escalas', 'Duracion': '21h 45m', 'Salida': '12:25', 'Llegada': '17:10\\n+1\\nBCN', 'Persona': 'por persona', 'Origen': 'LIM', 'Destino': 'BCN', 'Precio': 'USD1,377'},\n",
    "{'Aerolinea': 'LATAM Airlines', 'Escalas': '2 escalas', 'Duracion': '23h 25m', 'Salida': '12:25', 'Llegada': '18:50\\n+1\\nBCN', 'Persona': 'por persona', 'Origen': 'LIM', 'Destino': 'BCN', 'Precio': 'USD1,377'},\n",
    "{'Aerolinea': 'LATAM Airlines', 'Escalas': '2 escalas', 'Duracion': '28h 15m', 'Salida': '00:40', 'Llegada': '11:55\\n+1\\nBCN', 'Persona': 'por persona', 'Origen': 'LIM', 'Destino': 'BCN', 'Precio': 'USD1,325'},\n",
    "{'Aerolinea': 'Avianca', 'Escalas': '2 escalas', 'Duracion': '28h 55m', 'Salida': '06:55', 'Llegada': '18:50\\n+1\\nBCN', 'Persona': 'por persona', 'Origen': 'LIM', 'Destino': 'BCN', 'Precio': 'USD1,321'},\n",
    "{'Aerolinea': 'LATAM Airlines', 'Escalas': '2 escalas', 'Duracion': '29h 20m', 'Salida': '00:40', 'Llegada': '13:00\\n+1\\nBCN', 'Persona': 'por persona', 'Origen': 'LIM', 'Destino': 'BCN', 'Precio': 'USD1,325'},\n",
    "{'Aerolinea': 'LATAM Airlines', 'Escalas': '2 escalas', 'Duracion': '47h 05m', 'Salida': '12:00', 'Llegada': '18:05\\n+2\\nBCN', 'Persona': 'por persona', 'Origen': 'LIM', 'Destino': 'BCN', 'Precio': 'USD1,121'},\n",
    "{'Aerolinea': 'LATAM Airlines', 'Escalas': '2 escalas', 'Duracion': '31h 30m', 'Salida': '00:40', 'Llegada': '15:10\\n+1\\nBCN', 'Persona': 'por persona', 'Origen': 'LIM', 'Destino': 'BCN', 'Precio': 'USD1,325'},\n",
    "{'Aerolinea': 'LATAM Airlines', 'Escalas': '2 escalas', 'Duracion': '32h 25m', 'Salida': '00:40', 'Llegada': '16:05\\n+1\\nBCN', 'Persona': 'por persona', 'Origen': 'LIM', 'Destino': 'BCN', 'Precio': 'USD1,325'},\n",
    "{'Aerolinea': 'LATAM Airlines', 'Escalas': '2 escalas', 'Duracion': '34h 25m', 'Salida': '00:40', 'Llegada': '18:05\\n+1\\nBCN', 'Persona': 'por persona', 'Origen': 'LIM', 'Destino': 'BCN', 'Precio': 'USD1,325'},\n",
    "{'Aerolinea': 'LATAM Airlines', 'Escalas': '2 escalas', 'Duracion': '35h 50m', 'Salida': '00:40', 'Llegada': '19:30\\n+1\\nBCN', 'Persona': 'por persona', 'Origen': 'LIM', 'Destino': 'BCN', 'Precio': 'USD1,325'},\n",
    "{'Aerolinea': 'Avianca', 'Escalas': '2 escalas', 'Duracion': '22h 55m', 'Salida': '06:55', 'Llegada': '12:50\\n+1\\nBCN', 'Persona': 'por persona', 'Origen': 'LIM', 'Destino': 'BCN', 'Precio': 'USD1,500'},\n",
    "{'Aerolinea': 'Avianca', 'Escalas': '2 escalas', 'Duracion': '21h 20m', 'Salida': '18:35', 'Llegada': '22:55\\n+1\\nBCN', 'Persona': 'por persona', 'Origen': 'LIM', 'Destino': 'BCN', 'Precio': 'USD1,539'},\n",
    "{'Aerolinea': 'Avianca', 'Escalas': '2 escalas', 'Duracion': '24h 55m', 'Salida': '06:55', 'Llegada': '14:50\\n+1\\nBCN', 'Persona': 'por persona', 'Origen': 'LIM', 'Destino': 'BCN', 'Precio': 'USD1,500'},\n",
    "{'Aerolinea': 'LATAM Airlines', 'Escalas': '2 escalas', 'Duracion': '39h 25m', 'Salida': '00:40', 'Llegada': '23:05\\n+1\\nBCN', 'Persona': 'por persona', 'Origen': 'LIM', 'Destino': 'BCN', 'Precio': 'USD1,339'},\n",
    "{'Aerolinea': 'LATAM Airlines', 'Escalas': '2 escalas', 'Duracion': '45h 00m', 'Salida': '12:00', 'Llegada': '16:00\\n+2\\nBCN', 'Persona': 'por persona', 'Origen': 'LIM', 'Destino': 'BCN', 'Precio': 'USD1,274'},\n",
    "{'Aerolinea': 'LATAM Airlines', 'Escalas': '2 escalas', 'Duracion': '40h 50m', 'Salida': '12:00', 'Llegada': '11:50\\n+2\\nBCN', 'Persona': 'por persona', 'Origen': 'LIM', 'Destino': 'BCN', 'Precio': 'USD1,325'},\n",
    "{'Aerolinea': 'LATAM Airlines', 'Escalas': '2 escalas', 'Duracion': '42h 00m', 'Salida': '12:00', 'Llegada': '13:00\\n+2\\nBCN', 'Persona': 'por persona', 'Origen': 'LIM', 'Destino': 'BCN', 'Precio': 'USD1,325'},\n",
    "{'Aerolinea': 'LATAM Airlines', 'Escalas': '2 escalas', 'Duracion': '44h 15m', 'Salida': '12:00', 'Llegada': '15:15\\n+2\\nBCN', 'Persona': 'por persona', 'Origen': 'LIM', 'Destino': 'BCN', 'Precio': 'USD1,325'},\n",
    "{'Aerolinea': 'LATAM Airlines', 'Escalas': '2 escalas', 'Duracion': '26h 50m', 'Salida': '22:55', 'Llegada': '08:45\\n+2\\nBCN', 'Persona': 'por persona', 'Origen': 'LIM', 'Destino': 'BCN', 'Precio': 'USD1,579'},\n",
    "{'Aerolinea': 'LATAM Airlines', 'Escalas': '1 escala', 'Duracion': '14h 30m', 'Salida': '19:35', 'Llegada': '17:05\\n+1\\nBCN', 'Persona': 'por persona', 'Origen': 'LIM', 'Destino': 'BCN', 'Precio': 'USD1,739'},\n",
    "{'Aerolinea': 'LATAM Airlines', 'Escalas': '2 escalas', 'Duracion': '49h 50m', 'Salida': '00:40', 'Llegada': '09:30\\n+2\\nBCN', 'Persona': 'por persona', 'Origen': 'LIM', 'Destino': 'BCN', 'Precio': 'USD1,345'},\n",
    "{'Aerolinea': 'LATAM Airlines', 'Escalas': '2 escalas', 'Duracion': '21h 40m', 'Salida': '12:25', 'Llegada': '17:05\\n+1\\nBCN', 'Persona': 'por persona', 'Origen': 'LIM', 'Destino': 'BCN', 'Precio': 'USD1,739'}]"
   ]
  },
  {
   "cell_type": "code",
   "execution_count": 14,
   "id": "97bebe94",
   "metadata": {},
   "outputs": [],
   "source": [
    "lista_4 = [{'Aerolinea': 'LATAM Airlines', 'Escalas': '2 escalas', 'Duracion': '17h 25m', 'Salida': '12:25', 'Llegada': '12:50\\n+1\\nBCN', 'Persona': 'por persona', 'Origen': 'LIM', 'Destino': 'BCN', 'Precio': 'USD1,927'},\n",
    "{'Aerolinea': 'Avianca', 'Escalas': '2 escalas', 'Duracion': '27h 10m', 'Salida': '06:55', 'Llegada': '17:05\\n+1\\nBCN', 'Persona': 'por persona', 'Origen': 'LIM', 'Destino': 'BCN', 'Precio': 'USD1,927'},\n",
    "{'Aerolinea': 'LATAM Airlines', 'Escalas': '2 escalas', 'Duracion': '25h 15m', 'Salida': '00:25', 'Llegada': '08:40\\n+1\\nBCN', 'Persona': 'por persona', 'Origen': 'LIM', 'Destino': 'BCN', 'Precio': 'USD1,996'},\n",
    "{'Aerolinea': 'LATAM Airlines', 'Escalas': '2 escalas', 'Duracion': '51h 05m', 'Salida': '23:25', 'Llegada': '09:30\\n+3\\nBCN', 'Persona': 'por persona', 'Origen': 'LIM', 'Destino': 'BCN', 'Precio': 'USD1,751'},\n",
    "{'Aerolinea': 'LATAM Airlines', 'Escalas': '2 escalas', 'Duracion': '23h 35m', 'Salida': '16:00', 'Llegada': '22:35\\n+1\\nBCN', 'Persona': 'por persona', 'Origen': 'LIM', 'Destino': 'BCN', 'Precio': 'USD2,214'},\n",
    "{'Aerolinea': 'LATAM Airlines', 'Escalas': '1 escala', 'Duracion': '23h 45m', 'Salida': '00:40', 'Llegada': '07:25\\n+1\\nBCN', 'Persona': 'por persona', 'Origen': 'LIM', 'Destino': 'BCN', 'Precio': 'USD2,326'},\n",
    "{'Aerolinea': 'LATAM Airlines', 'Escalas': '2 escalas', 'Duracion': '32h 50m', 'Salida': '23:25', 'Llegada': '15:15\\n+2\\nBCN', 'Persona': 'por persona', 'Origen': 'LIM', 'Destino': 'BCN', 'Precio': 'USD2,517'},\n",
    "{'Aerolinea': 'Air France', 'Escalas': '2 escalas', 'Duracion': '17h 50m', 'Salida': '18:00', 'Llegada': '18:50\\n+1\\nBCN', 'Persona': 'por persona', 'Origen': 'LIM', 'Destino': 'BCN', 'Precio': 'USD2,850'},\n",
    "{'Aerolinea': 'LATAM Airlines', 'Escalas': '1 escala', 'Duracion': '17h 00m', 'Salida': '09:00', 'Llegada': '09:00\\n+1\\nBCN', 'Persona': 'por persona', 'Origen': 'LIM', 'Destino': 'BCN', 'Precio': 'USD2,951'},\n",
    "{'Aerolinea': 'LATAM Airlines', 'Escalas': '1 escala', 'Duracion': '26h 40m', 'Salida': '00:20', 'Llegada': '10:00\\n+1\\nBCN', 'Persona': 'por persona', 'Origen': 'LIM', 'Destino': 'BCN', 'Precio': 'USD2,951'},\n",
    "{'Aerolinea': 'Aerolineas Argentinas', 'Escalas': '2 escalas', 'Duracion': '51h 30m', 'Salida': '22:25', 'Llegada': '08:55\\n+3\\nBCN', 'Persona': 'por persona', 'Origen': 'LIM', 'Destino': 'BCN', 'Precio': 'USD2,777'},\n",
    "{'Aerolinea': 'Copa Airlines', 'Escalas': '2 escalas', 'Duracion': '24h 51m', 'Salida': '01:09', 'Llegada': '09:00\\n+1\\nBCN', 'Persona': 'por persona', 'Origen': 'LIM', 'Destino': 'BCN', 'Precio': 'USD3,232'},\n",
    "{'Aerolinea': 'Copa Airlines', 'Escalas': '2 escalas', 'Duracion': '25h 01m', 'Salida': '00:59', 'Llegada': '09:00\\n+1\\nBCN', 'Persona': 'por persona', 'Origen': 'LIM', 'Destino': 'BCN', 'Precio': 'USD3,232'},\n",
    "{'Aerolinea': 'Avianca', 'Escalas': '2 escalas', 'Duracion': '18h 45m', 'Salida': '11:05', 'Llegada': '12:50\\n+1\\nBCN', 'Persona': 'por persona', 'Origen': 'LIM', 'Destino': 'BCN', 'Precio': 'USD4,571'},\n",
    "{'Aerolinea': 'Avianca', 'Escalas': '2 escalas', 'Duracion': '23h 00m', 'Salida': '11:05', 'Llegada': '17:05\\n+1\\nBCN', 'Persona': 'por persona', 'Origen': 'LIM', 'Destino': 'BCN', 'Precio': 'USD4,571'},\n",
    "{'Aerolinea': 'Air France', 'Escalas': '2 escalas', 'Duracion': '20h 50m', 'Salida': '18:00', 'Llegada': '21:50\\n+1\\nBCN', 'Persona': 'por persona', 'Origen': 'LIM', 'Destino': 'BCN', 'Precio': 'USD6,120'},\n",
    "{'Aerolinea': 'LATAM Airlines', 'Escalas': '1 escala', 'Duracion': '21h 40m', 'Salida': '09:05', 'Llegada': '13:45\\n+1\\nBCN', 'Persona': 'por persona', 'Origen': 'LIM', 'Destino': 'BCN', 'Precio': 'USD14,189'}]"
   ]
  },
  {
   "cell_type": "code",
   "execution_count": 36,
   "id": "3298432a",
   "metadata": {},
   "outputs": [
    {
     "data": {
      "text/plain": [
       "(25, 9)"
      ]
     },
     "execution_count": 36,
     "metadata": {},
     "output_type": "execute_result"
    }
   ],
   "source": [
    "datav1=pd.DataFrame(lista_1)\n",
    "datav1.shape"
   ]
  },
  {
   "cell_type": "code",
   "execution_count": 37,
   "id": "c0d01933",
   "metadata": {},
   "outputs": [
    {
     "data": {
      "text/plain": [
       "(25, 9)"
      ]
     },
     "execution_count": 37,
     "metadata": {},
     "output_type": "execute_result"
    }
   ],
   "source": [
    "datav2=pd.DataFrame(lista_2)\n",
    "datav2.shape"
   ]
  },
  {
   "cell_type": "code",
   "execution_count": 38,
   "id": "a0dde56d",
   "metadata": {},
   "outputs": [
    {
     "data": {
      "text/plain": [
       "(25, 9)"
      ]
     },
     "execution_count": 38,
     "metadata": {},
     "output_type": "execute_result"
    }
   ],
   "source": [
    "datav3=pd.DataFrame(lista_3)\n",
    "datav3.shape"
   ]
  },
  {
   "cell_type": "code",
   "execution_count": 39,
   "id": "0bff2c9b",
   "metadata": {},
   "outputs": [
    {
     "data": {
      "text/plain": [
       "(17, 9)"
      ]
     },
     "execution_count": 39,
     "metadata": {},
     "output_type": "execute_result"
    }
   ],
   "source": [
    "datav4=pd.DataFrame(lista_4)\n",
    "datav4.shape"
   ]
  },
  {
   "cell_type": "markdown",
   "id": "7e2031fb",
   "metadata": {},
   "source": [
    "## 7.Jutamos todos los vuelos del 9 de abril."
   ]
  },
  {
   "cell_type": "code",
   "execution_count": 76,
   "id": "4c877eb9",
   "metadata": {},
   "outputs": [
    {
     "data": {
      "text/html": [
       "<div>\n",
       "<style scoped>\n",
       "    .dataframe tbody tr th:only-of-type {\n",
       "        vertical-align: middle;\n",
       "    }\n",
       "\n",
       "    .dataframe tbody tr th {\n",
       "        vertical-align: top;\n",
       "    }\n",
       "\n",
       "    .dataframe thead th {\n",
       "        text-align: right;\n",
       "    }\n",
       "</style>\n",
       "<table border=\"1\" class=\"dataframe\">\n",
       "  <thead>\n",
       "    <tr style=\"text-align: right;\">\n",
       "      <th></th>\n",
       "      <th>Aerolinea</th>\n",
       "      <th>Escalas</th>\n",
       "      <th>Duracion</th>\n",
       "      <th>Salida</th>\n",
       "      <th>Llegada</th>\n",
       "      <th>Persona</th>\n",
       "      <th>Origen</th>\n",
       "      <th>Destino</th>\n",
       "      <th>Precio</th>\n",
       "    </tr>\n",
       "  </thead>\n",
       "  <tbody>\n",
       "    <tr>\n",
       "      <th>0</th>\n",
       "      <td>Aeromexico</td>\n",
       "      <td>2 escalas</td>\n",
       "      <td>26h 30m</td>\n",
       "      <td>07:05</td>\n",
       "      <td>16:35\\n+1\\nBCN</td>\n",
       "      <td>por persona</td>\n",
       "      <td>LIM</td>\n",
       "      <td>BCN</td>\n",
       "      <td>USD607</td>\n",
       "    </tr>\n",
       "    <tr>\n",
       "      <th>1</th>\n",
       "      <td>LATAM Airlines</td>\n",
       "      <td>2 escalas</td>\n",
       "      <td>26h 10m</td>\n",
       "      <td>00:20</td>\n",
       "      <td>09:30\\n+1\\nBCN</td>\n",
       "      <td>por persona</td>\n",
       "      <td>LIM</td>\n",
       "      <td>BCN</td>\n",
       "      <td>USD707</td>\n",
       "    </tr>\n",
       "    <tr>\n",
       "      <th>2</th>\n",
       "      <td>LATAM Airlines</td>\n",
       "      <td>2 escalas</td>\n",
       "      <td>29h 40m</td>\n",
       "      <td>00:20</td>\n",
       "      <td>13:00\\n+1\\nBCN</td>\n",
       "      <td>por persona</td>\n",
       "      <td>LIM</td>\n",
       "      <td>BCN</td>\n",
       "      <td>USD707</td>\n",
       "    </tr>\n",
       "    <tr>\n",
       "      <th>3</th>\n",
       "      <td>Aeromexico</td>\n",
       "      <td>2 escalas</td>\n",
       "      <td>42h 50m</td>\n",
       "      <td>07:05</td>\n",
       "      <td>08:55\\n+2\\nBCN</td>\n",
       "      <td>por persona</td>\n",
       "      <td>LIM</td>\n",
       "      <td>BCN</td>\n",
       "      <td>USD559</td>\n",
       "    </tr>\n",
       "    <tr>\n",
       "      <th>4</th>\n",
       "      <td>KLM Royal Dutch Airlines</td>\n",
       "      <td>1 escala</td>\n",
       "      <td>18h 05m</td>\n",
       "      <td>19:55</td>\n",
       "      <td>21:00\\n+1\\nBCN</td>\n",
       "      <td>por persona</td>\n",
       "      <td>LIM</td>\n",
       "      <td>BCN</td>\n",
       "      <td>USD882</td>\n",
       "    </tr>\n",
       "    <tr>\n",
       "      <th>...</th>\n",
       "      <td>...</td>\n",
       "      <td>...</td>\n",
       "      <td>...</td>\n",
       "      <td>...</td>\n",
       "      <td>...</td>\n",
       "      <td>...</td>\n",
       "      <td>...</td>\n",
       "      <td>...</td>\n",
       "      <td>...</td>\n",
       "    </tr>\n",
       "    <tr>\n",
       "      <th>87</th>\n",
       "      <td>Copa Airlines</td>\n",
       "      <td>2 escalas</td>\n",
       "      <td>25h 01m</td>\n",
       "      <td>00:59</td>\n",
       "      <td>09:00\\n+1\\nBCN</td>\n",
       "      <td>por persona</td>\n",
       "      <td>LIM</td>\n",
       "      <td>BCN</td>\n",
       "      <td>USD3,232</td>\n",
       "    </tr>\n",
       "    <tr>\n",
       "      <th>88</th>\n",
       "      <td>Avianca</td>\n",
       "      <td>2 escalas</td>\n",
       "      <td>18h 45m</td>\n",
       "      <td>11:05</td>\n",
       "      <td>12:50\\n+1\\nBCN</td>\n",
       "      <td>por persona</td>\n",
       "      <td>LIM</td>\n",
       "      <td>BCN</td>\n",
       "      <td>USD4,571</td>\n",
       "    </tr>\n",
       "    <tr>\n",
       "      <th>89</th>\n",
       "      <td>Avianca</td>\n",
       "      <td>2 escalas</td>\n",
       "      <td>23h 00m</td>\n",
       "      <td>11:05</td>\n",
       "      <td>17:05\\n+1\\nBCN</td>\n",
       "      <td>por persona</td>\n",
       "      <td>LIM</td>\n",
       "      <td>BCN</td>\n",
       "      <td>USD4,571</td>\n",
       "    </tr>\n",
       "    <tr>\n",
       "      <th>90</th>\n",
       "      <td>Air France</td>\n",
       "      <td>2 escalas</td>\n",
       "      <td>20h 50m</td>\n",
       "      <td>18:00</td>\n",
       "      <td>21:50\\n+1\\nBCN</td>\n",
       "      <td>por persona</td>\n",
       "      <td>LIM</td>\n",
       "      <td>BCN</td>\n",
       "      <td>USD6,120</td>\n",
       "    </tr>\n",
       "    <tr>\n",
       "      <th>91</th>\n",
       "      <td>LATAM Airlines</td>\n",
       "      <td>1 escala</td>\n",
       "      <td>21h 40m</td>\n",
       "      <td>09:05</td>\n",
       "      <td>13:45\\n+1\\nBCN</td>\n",
       "      <td>por persona</td>\n",
       "      <td>LIM</td>\n",
       "      <td>BCN</td>\n",
       "      <td>USD14,189</td>\n",
       "    </tr>\n",
       "  </tbody>\n",
       "</table>\n",
       "<p>92 rows × 9 columns</p>\n",
       "</div>"
      ],
      "text/plain": [
       "                   Aerolinea    Escalas Duracion Salida         Llegada  \\\n",
       "0                 Aeromexico  2 escalas  26h 30m  07:05  16:35\\n+1\\nBCN   \n",
       "1             LATAM Airlines  2 escalas  26h 10m  00:20  09:30\\n+1\\nBCN   \n",
       "2             LATAM Airlines  2 escalas  29h 40m  00:20  13:00\\n+1\\nBCN   \n",
       "3                 Aeromexico  2 escalas  42h 50m  07:05  08:55\\n+2\\nBCN   \n",
       "4   KLM Royal Dutch Airlines   1 escala  18h 05m  19:55  21:00\\n+1\\nBCN   \n",
       "..                       ...        ...      ...    ...             ...   \n",
       "87             Copa Airlines  2 escalas  25h 01m  00:59  09:00\\n+1\\nBCN   \n",
       "88                   Avianca  2 escalas  18h 45m  11:05  12:50\\n+1\\nBCN   \n",
       "89                   Avianca  2 escalas  23h 00m  11:05  17:05\\n+1\\nBCN   \n",
       "90                Air France  2 escalas  20h 50m  18:00  21:50\\n+1\\nBCN   \n",
       "91            LATAM Airlines   1 escala  21h 40m  09:05  13:45\\n+1\\nBCN   \n",
       "\n",
       "        Persona Origen Destino     Precio  \n",
       "0   por persona    LIM     BCN     USD607  \n",
       "1   por persona    LIM     BCN     USD707  \n",
       "2   por persona    LIM     BCN     USD707  \n",
       "3   por persona    LIM     BCN     USD559  \n",
       "4   por persona    LIM     BCN     USD882  \n",
       "..          ...    ...     ...        ...  \n",
       "87  por persona    LIM     BCN   USD3,232  \n",
       "88  por persona    LIM     BCN   USD4,571  \n",
       "89  por persona    LIM     BCN   USD4,571  \n",
       "90  por persona    LIM     BCN   USD6,120  \n",
       "91  por persona    LIM     BCN  USD14,189  \n",
       "\n",
       "[92 rows x 9 columns]"
      ]
     },
     "execution_count": 76,
     "metadata": {},
     "output_type": "execute_result"
    }
   ],
   "source": [
    "df_1=pd.concat([datav1,datav2,datav3,datav4], axis=0).reset_index(drop=True)\n",
    "df_1"
   ]
  },
  {
   "cell_type": "code",
   "execution_count": 64,
   "id": "7fd0d594",
   "metadata": {},
   "outputs": [],
   "source": [
    "df_1.to_csv(\"df_version2.csv\", index=False)"
   ]
  },
  {
   "cell_type": "markdown",
   "id": "cd96f0b9",
   "metadata": {},
   "source": [
    "## 8. Juntamos los dos dataframes masivos."
   ]
  },
  {
   "cell_type": "code",
   "execution_count": 74,
   "id": "e6df7376",
   "metadata": {},
   "outputs": [],
   "source": [
    "datos_2=pd.read_csv(\"Downloads/df_version2.csv\")\n",
    "#datos_2"
   ]
  },
  {
   "cell_type": "code",
   "execution_count": 73,
   "id": "0d9c738f",
   "metadata": {},
   "outputs": [],
   "source": [
    "datos_1=pd.read_csv(\"Downloads/output.csv\")\n",
    "#datos_1"
   ]
  },
  {
   "cell_type": "code",
   "execution_count": 72,
   "id": "1b35dec6",
   "metadata": {},
   "outputs": [],
   "source": [
    "df=pd.concat([datos_1,datos_2], axis=0).reset_index(drop=True)\n",
    "df.to_csv(\"Airlines.csv\", index=False)"
   ]
  },
  {
   "cell_type": "markdown",
   "id": "7b8e7c93",
   "metadata": {},
   "source": [
    "## 9. Analisis de los datos extraidos."
   ]
  },
  {
   "cell_type": "code",
   "execution_count": 40,
   "id": "3f002c39",
   "metadata": {},
   "outputs": [
    {
     "data": {
      "text/html": [
       "<div>\n",
       "<style scoped>\n",
       "    .dataframe tbody tr th:only-of-type {\n",
       "        vertical-align: middle;\n",
       "    }\n",
       "\n",
       "    .dataframe tbody tr th {\n",
       "        vertical-align: top;\n",
       "    }\n",
       "\n",
       "    .dataframe thead th {\n",
       "        text-align: right;\n",
       "    }\n",
       "</style>\n",
       "<table border=\"1\" class=\"dataframe\">\n",
       "  <thead>\n",
       "    <tr style=\"text-align: right;\">\n",
       "      <th></th>\n",
       "      <th>Aerolinea</th>\n",
       "      <th>Escalas</th>\n",
       "      <th>Duracion</th>\n",
       "      <th>Salida</th>\n",
       "      <th>Llegada</th>\n",
       "      <th>Persona</th>\n",
       "      <th>Origen</th>\n",
       "      <th>Destino</th>\n",
       "      <th>Precio</th>\n",
       "    </tr>\n",
       "  </thead>\n",
       "  <tbody>\n",
       "    <tr>\n",
       "      <th>0</th>\n",
       "      <td>Aeromexico</td>\n",
       "      <td>2 escalas</td>\n",
       "      <td>26h 30m</td>\n",
       "      <td>07:05</td>\n",
       "      <td>16:35\\n+1\\nBCN</td>\n",
       "      <td>por persona</td>\n",
       "      <td>LIM</td>\n",
       "      <td>BCN</td>\n",
       "      <td>USD607</td>\n",
       "    </tr>\n",
       "    <tr>\n",
       "      <th>1</th>\n",
       "      <td>LATAM Airlines</td>\n",
       "      <td>1 escala</td>\n",
       "      <td>25h 40m</td>\n",
       "      <td>00:20</td>\n",
       "      <td>09:00\\n+1\\nBCN</td>\n",
       "      <td>por persona</td>\n",
       "      <td>LIM</td>\n",
       "      <td>BCN</td>\n",
       "      <td>USD696</td>\n",
       "    </tr>\n",
       "    <tr>\n",
       "      <th>2</th>\n",
       "      <td>Aeromexico</td>\n",
       "      <td>2 escalas</td>\n",
       "      <td>33h 05m</td>\n",
       "      <td>00:30</td>\n",
       "      <td>16:35\\n+1\\nBCN</td>\n",
       "      <td>por persona</td>\n",
       "      <td>LIM</td>\n",
       "      <td>BCN</td>\n",
       "      <td>USD607</td>\n",
       "    </tr>\n",
       "    <tr>\n",
       "      <th>3</th>\n",
       "      <td>Aeromexico</td>\n",
       "      <td>2 escalas</td>\n",
       "      <td>32h 50m</td>\n",
       "      <td>07:05</td>\n",
       "      <td>22:55\\n+1\\nBCN</td>\n",
       "      <td>por persona</td>\n",
       "      <td>LIM</td>\n",
       "      <td>BCN</td>\n",
       "      <td>USD611</td>\n",
       "    </tr>\n",
       "    <tr>\n",
       "      <th>4</th>\n",
       "      <td>LATAM Airlines</td>\n",
       "      <td>2 escalas</td>\n",
       "      <td>23h 25m</td>\n",
       "      <td>08:55</td>\n",
       "      <td>15:20\\n+1\\nBCN</td>\n",
       "      <td>por persona</td>\n",
       "      <td>LIM</td>\n",
       "      <td>BCN</td>\n",
       "      <td>USD784</td>\n",
       "    </tr>\n",
       "  </tbody>\n",
       "</table>\n",
       "</div>"
      ],
      "text/plain": [
       "        Aerolinea    Escalas Duracion Salida         Llegada      Persona  \\\n",
       "0      Aeromexico  2 escalas  26h 30m  07:05  16:35\\n+1\\nBCN  por persona   \n",
       "1  LATAM Airlines   1 escala  25h 40m  00:20  09:00\\n+1\\nBCN  por persona   \n",
       "2      Aeromexico  2 escalas  33h 05m  00:30  16:35\\n+1\\nBCN  por persona   \n",
       "3      Aeromexico  2 escalas  32h 50m  07:05  22:55\\n+1\\nBCN  por persona   \n",
       "4  LATAM Airlines  2 escalas  23h 25m  08:55  15:20\\n+1\\nBCN  por persona   \n",
       "\n",
       "  Origen Destino  Precio  \n",
       "0    LIM     BCN  USD607  \n",
       "1    LIM     BCN  USD696  \n",
       "2    LIM     BCN  USD607  \n",
       "3    LIM     BCN  USD611  \n",
       "4    LIM     BCN  USD784  "
      ]
     },
     "execution_count": 40,
     "metadata": {},
     "output_type": "execute_result"
    }
   ],
   "source": [
    "data=pd.read_csv(\"Documents/Data/Airlines.csv\")\n",
    "data.head(5)"
   ]
  },
  {
   "cell_type": "code",
   "execution_count": 18,
   "id": "577fdc37",
   "metadata": {},
   "outputs": [
    {
     "name": "stdout",
     "output_type": "stream",
     "text": [
      "<class 'pandas.core.frame.DataFrame'>\n",
      "RangeIndex: 174 entries, 0 to 173\n",
      "Data columns (total 9 columns):\n",
      " #   Column     Non-Null Count  Dtype \n",
      "---  ------     --------------  ----- \n",
      " 0   Aerolinea  174 non-null    object\n",
      " 1   Escalas    174 non-null    object\n",
      " 2   Duracion   174 non-null    object\n",
      " 3   Salida     174 non-null    object\n",
      " 4   Llegada    174 non-null    object\n",
      " 5   Persona    174 non-null    object\n",
      " 6   Origen     174 non-null    object\n",
      " 7   Destino    174 non-null    object\n",
      " 8   Precio     174 non-null    object\n",
      "dtypes: object(9)\n",
      "memory usage: 12.4+ KB\n"
     ]
    }
   ],
   "source": [
    "data.info()"
   ]
  },
  {
   "cell_type": "markdown",
   "id": "c6e579bb",
   "metadata": {},
   "source": [
    "## 10. Realizamos algunas modificacion al dataframe"
   ]
  },
  {
   "cell_type": "code",
   "execution_count": 41,
   "id": "0e3b5d14",
   "metadata": {},
   "outputs": [],
   "source": [
    "data[\"Precio\"]=data[\"Precio\"].apply(lambda x: str(x)[3:])\n",
    "data[\"Llegada\"]=data[\"Llegada\"].apply(lambda x: str(x)[:5])\n",
    "data[\"Escalas\"]=data[\"Escalas\"].apply(lambda x: str(x)[0])\n",
    "#data[\"Precio\"]=data[\"Precio\"].astype(\"category\")"
   ]
  },
  {
   "cell_type": "code",
   "execution_count": 150,
   "id": "25f13135",
   "metadata": {},
   "outputs": [],
   "source": [
    "data[\"Precio\"]=data[\"Precio\"].replace({'1,016': 1016,\"1,033\":1033,\"1,003\":1003,\"1,063\":1063,\"1,049\":1049,\"1,029\":1029,\n",
    "                                       \"1,066\":1066,\"1,123\":1123,\"1,168\":1168,\"1,024\":1024,\"1,037\":1037,\"1,259\":1259,\n",
    "                                       \"1,070\":1070,\"1,319\":1319,\"1,246\":1246,\"1,305\":1305,\"1,002\":1002,\"1,226\":1226,\n",
    "                                       \"1,375\":1375,\"1,323\":1323,\"1,297\":1297,\"1,337\":1337,\"1,580\":1580,\"1,623\":1623,\n",
    "                                       \"1,736\":1736,\"1,667\":1667,\"1,937\":1937,\"1,954\":1954,\"1,687\":1687,\"2,001\":2001,\n",
    "                                      \"2,399\":2399,\"2,513\":2513,\"2,951\":2951,\"2,773\":2773,\"3,227\":3227,\"14,168\":14168,\n",
    "                                       \"1,005\":1005,\"1,041\":1041,\"1,077\":1077,\"1,051\":1051,\"1,067\":1067,\"1,125\":1125,\n",
    "                                       \"1,091\":1091,\"1,150\":1150,\"1,170\":1170,\"1,025\":1025,\"1,169\":1169,\"1,157\":1157,\n",
    "                                       \"1,186\":1186,\"1,244\":1244,\"1,261\":1261,\"1,322\":1322,\"1,121\":1121,'1,252':1252,\n",
    "                                       '1,165':1165,'1,377':1377,'1,325':1325,'1,321':1321,'1,500':1500,'1,539':1539,\n",
    "                                      '1,339':1339,'1,274':1274,'1,579':1579,'1,739':1739,'1,345':1345,'1,927':1927,\n",
    "                                      '1,996':1996,'1,751':1751,'2,214':2214,'2,326':2326,'2,517':2517,'2,850':2850,\n",
    "                                      '2,777':2777,'3,232':3232,'4,571':4571,'6,120':6120,'14,189':14189})"
   ]
  },
  {
   "cell_type": "code",
   "execution_count": 153,
   "id": "8144d6ce",
   "metadata": {},
   "outputs": [
    {
     "name": "stdout",
     "output_type": "stream",
     "text": [
      "<class 'pandas.core.frame.DataFrame'>\n",
      "RangeIndex: 174 entries, 0 to 173\n",
      "Data columns (total 9 columns):\n",
      " #   Column     Non-Null Count  Dtype \n",
      "---  ------     --------------  ----- \n",
      " 0   Aerolinea  174 non-null    object\n",
      " 1   Escalas    174 non-null    object\n",
      " 2   Duracion   174 non-null    object\n",
      " 3   Salida     174 non-null    object\n",
      " 4   Llegada    174 non-null    object\n",
      " 5   Persona    174 non-null    object\n",
      " 6   Origen     174 non-null    object\n",
      " 7   Destino    174 non-null    object\n",
      " 8   Precio     174 non-null    int32 \n",
      "dtypes: int32(1), object(8)\n",
      "memory usage: 11.7+ KB\n"
     ]
    }
   ],
   "source": [
    "data[\"Precio\"]=data[\"Precio\"].astype(\"int\")\n",
    "data.info()"
   ]
  },
  {
   "cell_type": "code",
   "execution_count": 7,
   "id": "21809b3b",
   "metadata": {},
   "outputs": [
    {
     "data": {
      "text/html": [
       "<div>\n",
       "<style scoped>\n",
       "    .dataframe tbody tr th:only-of-type {\n",
       "        vertical-align: middle;\n",
       "    }\n",
       "\n",
       "    .dataframe tbody tr th {\n",
       "        vertical-align: top;\n",
       "    }\n",
       "\n",
       "    .dataframe thead th {\n",
       "        text-align: right;\n",
       "    }\n",
       "</style>\n",
       "<table border=\"1\" class=\"dataframe\">\n",
       "  <thead>\n",
       "    <tr style=\"text-align: right;\">\n",
       "      <th></th>\n",
       "      <th>Aerolinea</th>\n",
       "      <th>Escalas</th>\n",
       "      <th>Duracion</th>\n",
       "      <th>Salida</th>\n",
       "      <th>Llegada</th>\n",
       "      <th>Persona</th>\n",
       "      <th>Origen</th>\n",
       "      <th>Destino</th>\n",
       "      <th>Precio</th>\n",
       "    </tr>\n",
       "  </thead>\n",
       "  <tbody>\n",
       "    <tr>\n",
       "      <th>0</th>\n",
       "      <td>Aeromexico</td>\n",
       "      <td>2</td>\n",
       "      <td>26h 30m</td>\n",
       "      <td>07:05</td>\n",
       "      <td>16:35</td>\n",
       "      <td>por persona</td>\n",
       "      <td>LIM</td>\n",
       "      <td>BCN</td>\n",
       "      <td>607</td>\n",
       "    </tr>\n",
       "    <tr>\n",
       "      <th>1</th>\n",
       "      <td>LATAM Airlines</td>\n",
       "      <td>1</td>\n",
       "      <td>25h 40m</td>\n",
       "      <td>00:20</td>\n",
       "      <td>09:00</td>\n",
       "      <td>por persona</td>\n",
       "      <td>LIM</td>\n",
       "      <td>BCN</td>\n",
       "      <td>696</td>\n",
       "    </tr>\n",
       "    <tr>\n",
       "      <th>2</th>\n",
       "      <td>Aeromexico</td>\n",
       "      <td>2</td>\n",
       "      <td>33h 05m</td>\n",
       "      <td>00:30</td>\n",
       "      <td>16:35</td>\n",
       "      <td>por persona</td>\n",
       "      <td>LIM</td>\n",
       "      <td>BCN</td>\n",
       "      <td>607</td>\n",
       "    </tr>\n",
       "  </tbody>\n",
       "</table>\n",
       "</div>"
      ],
      "text/plain": [
       "        Aerolinea Escalas Duracion Salida Llegada      Persona Origen Destino  \\\n",
       "0      Aeromexico       2  26h 30m  07:05   16:35  por persona    LIM     BCN   \n",
       "1  LATAM Airlines       1  25h 40m  00:20   09:00  por persona    LIM     BCN   \n",
       "2      Aeromexico       2  33h 05m  00:30   16:35  por persona    LIM     BCN   \n",
       "\n",
       "  Precio  \n",
       "0    607  \n",
       "1    696  \n",
       "2    607  "
      ]
     },
     "execution_count": 7,
     "metadata": {},
     "output_type": "execute_result"
    }
   ],
   "source": [
    "data.head(3)"
   ]
  },
  {
   "cell_type": "code",
   "execution_count": 11,
   "id": "00ae3734",
   "metadata": {},
   "outputs": [],
   "source": [
    "data[\"Escalas\"]=data[\"Escalas\"].astype(\"int\")"
   ]
  },
  {
   "cell_type": "code",
   "execution_count": 15,
   "id": "cf524969",
   "metadata": {},
   "outputs": [
    {
     "name": "stdout",
     "output_type": "stream",
     "text": [
      "<class 'pandas.core.frame.DataFrame'>\n",
      "RangeIndex: 174 entries, 0 to 173\n",
      "Data columns (total 9 columns):\n",
      " #   Column     Non-Null Count  Dtype \n",
      "---  ------     --------------  ----- \n",
      " 0   Aerolinea  174 non-null    object\n",
      " 1   Escalas    174 non-null    int32 \n",
      " 2   Duracion   174 non-null    object\n",
      " 3   Salida     174 non-null    object\n",
      " 4   Llegada    174 non-null    object\n",
      " 5   Persona    174 non-null    object\n",
      " 6   Origen     174 non-null    object\n",
      " 7   Destino    174 non-null    object\n",
      " 8   Precio     174 non-null    object\n",
      "dtypes: int32(1), object(8)\n",
      "memory usage: 11.7+ KB\n"
     ]
    }
   ],
   "source": [
    "data.info()"
   ]
  },
  {
   "cell_type": "markdown",
   "id": "85d142a5",
   "metadata": {},
   "source": [
    "## 11. Analisis Exploratiro de los datos (EDA)."
   ]
  },
  {
   "cell_type": "code",
   "execution_count": 59,
   "id": "3023db4b",
   "metadata": {},
   "outputs": [
    {
     "data": {
      "text/plain": [
       "LATAM Airlines              83\n",
       "Avianca                     28\n",
       "Aeromexico                  17\n",
       "Iberia                      10\n",
       "KLM Royal Dutch Airlines     9\n",
       "American Airlines            5\n",
       "Air France                   5\n",
       "Copa Airlines                5\n",
       "JetBlue                      3\n",
       "Air Europa                   2\n",
       "United Airlines              2\n",
       "Aerolineas Argentinas        2\n",
       "Delta                        2\n",
       "Spirit                       1\n",
       "Name: Aerolinea, dtype: int64"
      ]
     },
     "execution_count": 59,
     "metadata": {},
     "output_type": "execute_result"
    }
   ],
   "source": [
    "aerolineas=data[\"Aerolinea\"].value_counts()[:]\n",
    "aerolineas"
   ]
  },
  {
   "cell_type": "markdown",
   "id": "6b4b4c4f",
   "metadata": {},
   "source": [
    "* Al parecer las aerolineas que mas se repiten y las que van mas seguidas a Barcelona (España) resultan ser **LATAM Airlines**, **Avianca**, **Aeromexico**, **Iberia**. Despues de todas ellas, se encuentran **KLM**, **American Airlines**, **Air Europa** entre otras. Veamoslo mejor en un grafico para poder interpretarlo mejor."
   ]
  },
  {
   "cell_type": "code",
   "execution_count": 68,
   "id": "7b374165",
   "metadata": {},
   "outputs": [
    {
     "data": {
      "image/png": "[encoded data removed]",
      "text/plain": [
       "<Figure size 1080x432 with 1 Axes>"
      ]
     },
     "metadata": {},
     "output_type": "display_data"
    }
   ],
   "source": [
    "plt.figure(figsize=(15,6))\n",
    "sns.barplot(x = aerolineas.values, y = aerolineas.index, palette=\"dark\")\n",
    "plt.title('Aerolineas que vuelan hacia Barcelona (España) del 9 y 10 de Abril', fontsize = 20)\n",
    "plt.xlabel('Cantidad', fontsize=20)\n",
    "plt.ylabel('Aerolineas', fontsize=20)\n",
    "plt.show()"
   ]
  },
  {
   "cell_type": "code",
   "execution_count": 70,
   "id": "b9646a49",
   "metadata": {},
   "outputs": [
    {
     "data": {
      "text/plain": [
       "2    124\n",
       "1     50\n",
       "Name: Escalas, dtype: int64"
      ]
     },
     "execution_count": 70,
     "metadata": {},
     "output_type": "execute_result"
    }
   ],
   "source": [
    "escalas = data[\"Escalas\"].value_counts().to_frame\n",
    "escalas"
   ]
  },
  {
   "cell_type": "code",
   "execution_count": 78,
   "id": "df2f08a1",
   "metadata": {},
   "outputs": [
    {
     "data": {
      "image/png": "[encoded data removed]",
      "text/plain": [
       "<Figure size 1008x360 with 1 Axes>"
      ]
     },
     "metadata": {},
     "output_type": "display_data"
    }
   ],
   "source": [
    "plt.figure(figsize=(14,5))\n",
    "sns.countplot(x=data[\"Escalas\"], palette=\"muted\" )\n",
    "plt.title(\"Numero total de escalas entre todos los vuelos\", fontsize=20)\n",
    "plt.xlabel(\"Escalas\", fontsize=20)\n",
    "plt.ylabel(\"Cantidad\", fontsize=20)\n",
    "plt.show()"
   ]
  },
  {
   "cell_type": "markdown",
   "id": "33a4f23d",
   "metadata": {},
   "source": [
    "* Al parecer, durante el 9 y el 10 de Abril, las aerolineas ofrecen mas vuelos con dos escalas que a una escalas. Esto puede ser porque los pasajeros tienen que hacer una parada por el aeropuerto de Mardid (Barajas). Esa puede ser una explicacion clara de lo que se ve en el grafico."
   ]
  },
  {
   "cell_type": "code",
   "execution_count": 155,
   "id": "98758d35",
   "metadata": {},
   "outputs": [
    {
     "data": {
      "image/png": "[encoded data removed]",
      "text/plain": [
       "<Figure size 1152x432 with 1 Axes>"
      ]
     },
     "metadata": {},
     "output_type": "display_data"
    }
   ],
   "source": [
    "plt.figure(figsize=(16,6))\n",
    "\n",
    "plt.hist(data[\"Precio\"], bins=30, color=\"olive\", label=\"Precios_voleto\")\n",
    "plt.title(\"Distribucion de los precio de las aerolineas por persona\", size=20)\n",
    "plt.xlabel(\"Precios\", size=20)\n",
    "plt.ylabel(\"Cantidad\", size=20)\n",
    "plt.legend()\n",
    "plt.show()"
   ]
  },
  {
   "cell_type": "markdown",
   "id": "ac403ba8",
   "metadata": {},
   "source": [
    "* Al parecer los datos en como estan distribuidos los precios de las aerolineas se encuentran dispersos. Segun la base de datos los precios van desde los 500 dolares hasta los 14000 dolares. Sin embargo, algo interesante es que los precios que mas se repiten se encuentran agrupados hacia la izquierda. Con lo cual se puede concluir que los boletos de avion durante los dias 9 y 10 de abril venden mas boletos barato que caros. "
   ]
  },
  {
   "cell_type": "markdown",
   "id": "71cb7e0b",
   "metadata": {},
   "source": [
    "## Las Aerolineas mas populares."
   ]
  },
  {
   "cell_type": "code",
   "execution_count": 157,
   "id": "c3391187",
   "metadata": {},
   "outputs": [
    {
     "data": {
      "text/plain": [
       "(138, 9)"
      ]
     },
     "execution_count": 157,
     "metadata": {},
     "output_type": "execute_result"
    }
   ],
   "source": [
    "valorizadas=data[data[\"Aerolinea\"].isin([\"LATAM Airlines\", \"Avianca\", \"Aeromexico\",\"Iberia\"])]\n",
    "valorizadas.shape"
   ]
  },
  {
   "cell_type": "code",
   "execution_count": 162,
   "id": "478d419f",
   "metadata": {},
   "outputs": [
    {
     "data": {
      "image/png": "[encoded data removed]",
      "text/plain": [
       "<Figure size 1080x432 with 1 Axes>"
      ]
     },
     "metadata": {},
     "output_type": "display_data"
    }
   ],
   "source": [
    "plt.figure(figsize=(15,6))\n",
    "sns.boxplot(x=\"Aerolinea\", y=\"Precio\", data=valorizadas, hue=\"Aerolinea\")\n",
    "plt.title(\"Diagrama de 4 aerolineas con respecto al precio\", size=20)\n",
    "plt.xlabel(\"Aerolineas\", size=20)\n",
    "plt.ylabel(\"Precio\", size=20)\n",
    "plt.show()"
   ]
  },
  {
   "cell_type": "markdown",
   "id": "733a555d",
   "metadata": {},
   "source": [
    "* A partir de lo mostrado anteriormente, se puede decir que los precios en su mayoria ocilan entre los 500 hasta los 1500. Sin embargo, cabe aclarar que de las 4 aerolineas, la que mas barato sale el boleto del avion, seria **Aeromexico**. Esta aerolinea seria perfecta para el publico que va a Barcelona a hacer estudios universitarios, ya que su finalidad es estudiar, mas no tener un viaje placentero. \n",
    "\n",
    "* En segundo lugar, las otras tres aerolineas si llegan a ofrecer, boletos de vuelos mas caros que Aeromexico. Por ejemplo, **LATAM Airlines** ofrece boletos de vuelos que llegan casi hasta los 2000 dolares. Ademas de ello, se puede ver que hay algunos datos atipicos, que se alejan de los demas datos que estan por debajo de los 2000, porque se ve que hay un boleto que cuesta 14000 dolares. Con lo cual se puede decir que esta aerolinea queda perfecta para empresarios que quieran hacer negocios por alla o gente con estudios cualificados, debido a que su poder adquisitivo es mayor que el de un estudiante universitario.\n",
    "\n",
    "* Por ultimo, el publico objetivo de las aerolineas **Avianca** e **Iberia** se enfocarian solo en personas que van a Barcelona a trabajar o familias que van a hacer una nueva vida por alla. Si bien el precio no varia como **LATAM Airlines**, creo que el precio se ajusta perfectamente a ese publico objetivo."
   ]
  },
  {
   "cell_type": "markdown",
   "id": "4074a167",
   "metadata": {},
   "source": [
    "## Conclusiones."
   ]
  },
  {
   "cell_type": "markdown",
   "id": "9868eb60",
   "metadata": {},
   "source": [
    "* La primera conclusion es que los precios entre los dias 9 y 10 de abril se agrupan entre los 500 hasta casi los 2000 dolares americanos, luego de ello, los precios dejan de ser frecuentes para la venta de las aerolineas como es el caso de un boleto de avion a 14000 dolares.\n",
    "\n",
    "* La segunda, es que con los datos recoplidos, las aerolineas pueden saber cual es su publico objetivo y las personas pueden saber cual aerolineas seria la mas adecuada de acorde a su presupuesto."
   ]
  },
  {
   "cell_type": "code",
   "execution_count": null,
   "id": "9b0d1d40",
   "metadata": {},
   "outputs": [],
   "source": []
  }
 ],
 "metadata": {
  "kernelspec": {
   "display_name": "Python 3 (ipykernel)",
   "language": "python",
   "name": "python3"
  },
  "language_info": {
   "codemirror_mode": {
    "name": "ipython",
    "version": 3
   },
   "file_extension": ".py",
   "mimetype": "text/x-python",
   "name": "python",
   "nbconvert_exporter": "python",
   "pygments_lexer": "ipython3",
   "version": "3.9.7"
  }
 },
 "nbformat": 4,
 "nbformat_minor": 5
}
