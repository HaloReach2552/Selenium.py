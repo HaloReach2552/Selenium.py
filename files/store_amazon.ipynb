{
 "cells": [
  {
   "cell_type": "markdown",
   "id": "97eff4e1",
   "metadata": {},
   "source": [
    "# Data Scraping: Amazon."
   ]
  },
  {
   "cell_type": "markdown",
   "id": "35514fd8",
   "metadata": {},
   "source": [
    "* Ejercicio de extraccion de datos por medio de web scraping usando selenium y pandas para crear dataframe."
   ]
  },
  {
   "cell_type": "markdown",
   "id": "94c249b6",
   "metadata": {},
   "source": [
    "# Libraries:"
   ]
  },
  {
   "cell_type": "code",
   "execution_count": 1,
   "id": "b8bbafa8",
   "metadata": {},
   "outputs": [],
   "source": [
    "import pandas as pd\n",
    "import requests\n",
    "from selenium import webdriver\n",
    "from selenium.webdriver.support.ui import WebDriverWait\n",
    "from webdriver_manager.chrome import ChromeDriverManager\n",
    "from time import sleep\n",
    "import warnings\n",
    "warnings.filterwarnings(\"ignore\")"
   ]
  },
  {
   "cell_type": "markdown",
   "id": "16b09dfe",
   "metadata": {},
   "source": [
    "* This is the link I extracted info from Amazon."
   ]
  },
  {
   "cell_type": "markdown",
   "id": "c2fd7d22",
   "metadata": {},
   "source": [
    "* https://www.amazon.com/s?k=iphone+12&rh=n%3A2335752011%2Cp_89%3AApple&dc&language=es&__mk_es_US=%C3%85M%C3%85%C5%BD%C3%95%C3%91&crid=PZKAV2J6R43U&qid=1646838837&rnid=2528832011&sprefix=iphone+1%2Caps%2C160&ref=sr_nr_p_89_1\n"
   ]
  },
  {
   "cell_type": "code",
   "execution_count": 2,
   "id": "0c2d4218",
   "metadata": {},
   "outputs": [],
   "source": [
    "PATH=\"https://www.amazon.com/s?k=iphone+12&rh=n%3A2335752011%2Cp_89%3AApple&dc&language=es&__mk_es_US=%C3%85M%C3%85%C5%BD%C3%95%C3%91&crid=PZKAV2J6R43U&qid=1646838837&rnid=2528832011&sprefix=iphone+1%2Caps%2C160&ref=sr_nr_p_89_1\"\n",
    "#Installing the chrome driver:\n",
    "#driver = webdriver.Chrome(ChromeDriverManager().install())\n",
    "#getting the website:\n",
    "#driver.get(PATH)\n",
    "#driver.maximize_window()"
   ]
  },
  {
   "cell_type": "code",
   "execution_count": 58,
   "id": "ff94c0c1",
   "metadata": {},
   "outputs": [],
   "source": [
    "driver=webdriver.Chrome(executable_path=\"C:/Selenium/chromedriver.exe\")\n",
    "driver.get(PATH)\n",
    "driver.maximize_window()"
   ]
  },
  {
   "cell_type": "markdown",
   "id": "139630b0",
   "metadata": {},
   "source": [
    "# First element on the page:"
   ]
  },
  {
   "cell_type": "code",
   "execution_count": 59,
   "id": "c54252fd",
   "metadata": {},
   "outputs": [
    {
     "data": {
      "text/plain": [
       "<selenium.webdriver.remote.webelement.WebElement (session=\"27b8c1bea06743801577f0482371a63f\", element=\"631f9d43-fdf5-4b2a-a5d2-d2f1104e8a7c\")>"
      ]
     },
     "execution_count": 59,
     "metadata": {},
     "output_type": "execute_result"
    }
   ],
   "source": [
    "iphone_1=driver.find_element_by_xpath('//*[@id=\"search\"]/div[1]/div[1]/div/span[3]/div[2]/div[2]')\n",
    "iphone_1"
   ]
  },
  {
   "cell_type": "code",
   "execution_count": 60,
   "id": "90375763",
   "metadata": {},
   "outputs": [
    {
     "data": {
      "text/plain": [
       "{'Nombre': 'Apple iPhone 12, 128GB, Negro - Totalmente desbloqueado (renovado)',\n",
       " 'Precio': '624',\n",
       " 'Envio': 'Con envíos a Perú'}"
      ]
     },
     "execution_count": 60,
     "metadata": {},
     "output_type": "execute_result"
    }
   ],
   "source": [
    "def information(iphone_1):\n",
    "    nombre=iphone_1.find_element_by_xpath('.//a[@class=\"a-link-normal s-underline-text s-underline-link-text s-link-style a-text-normal\"]/span').text\n",
    "    precio=iphone_1.find_element_by_xpath('.//span[@class=\"a-price-whole\"]').text\n",
    "    envios=iphone_1.find_element_by_xpath('.//span[@class=\"a-size-small a-color-base\"]').text\n",
    "    return {\"Nombre\":nombre, \"Precio\":precio, \"Envio\":envios}\n",
    "\n",
    "information(iphone_1)"
   ]
  },
  {
   "cell_type": "code",
   "execution_count": 61,
   "id": "86810aa7",
   "metadata": {},
   "outputs": [
    {
     "data": {
      "text/plain": [
       "[<selenium.webdriver.remote.webelement.WebElement (session=\"27b8c1bea06743801577f0482371a63f\", element=\"631f9d43-fdf5-4b2a-a5d2-d2f1104e8a7c\")>,\n",
       " <selenium.webdriver.remote.webelement.WebElement (session=\"27b8c1bea06743801577f0482371a63f\", element=\"5cc96134-dcd0-45a9-aadc-3527703ff864\")>,\n",
       " <selenium.webdriver.remote.webelement.WebElement (session=\"27b8c1bea06743801577f0482371a63f\", element=\"0815be75-c0be-4dac-8812-7ef0f2b262a2\")>,\n",
       " <selenium.webdriver.remote.webelement.WebElement (session=\"27b8c1bea06743801577f0482371a63f\", element=\"4d856bfd-bca9-4d52-99cf-57bc869e5eb7\")>,\n",
       " <selenium.webdriver.remote.webelement.WebElement (session=\"27b8c1bea06743801577f0482371a63f\", element=\"0bdfa4c7-0a2e-4dcd-8415-8e824e5f559d\")>,\n",
       " <selenium.webdriver.remote.webelement.WebElement (session=\"27b8c1bea06743801577f0482371a63f\", element=\"0502ebb9-cc4f-4524-8288-bb2fa75ee9f4\")>,\n",
       " <selenium.webdriver.remote.webelement.WebElement (session=\"27b8c1bea06743801577f0482371a63f\", element=\"7de2d4cc-ba0f-48d3-949c-8128e326060a\")>,\n",
       " <selenium.webdriver.remote.webelement.WebElement (session=\"27b8c1bea06743801577f0482371a63f\", element=\"add089ad-796b-43ca-abf7-5cd45303371f\")>,\n",
       " <selenium.webdriver.remote.webelement.WebElement (session=\"27b8c1bea06743801577f0482371a63f\", element=\"69f7d35a-217c-4cd5-97ea-4fe5205ff7ba\")>,\n",
       " <selenium.webdriver.remote.webelement.WebElement (session=\"27b8c1bea06743801577f0482371a63f\", element=\"c9b880e7-79ef-4203-acac-ee54e6908ed6\")>,\n",
       " <selenium.webdriver.remote.webelement.WebElement (session=\"27b8c1bea06743801577f0482371a63f\", element=\"bbac32d0-3535-4f95-842a-0b64766d80bf\")>,\n",
       " <selenium.webdriver.remote.webelement.WebElement (session=\"27b8c1bea06743801577f0482371a63f\", element=\"45c01d5b-611a-4194-8a14-b04868c394df\")>,\n",
       " <selenium.webdriver.remote.webelement.WebElement (session=\"27b8c1bea06743801577f0482371a63f\", element=\"e93df810-57c2-404f-9b86-8bf89744511e\")>,\n",
       " <selenium.webdriver.remote.webelement.WebElement (session=\"27b8c1bea06743801577f0482371a63f\", element=\"9b41ed87-a72f-4602-8e5d-f516d097ac3f\")>,\n",
       " <selenium.webdriver.remote.webelement.WebElement (session=\"27b8c1bea06743801577f0482371a63f\", element=\"c3dd129b-11bc-424c-9cd9-bfe835fcc038\")>,\n",
       " <selenium.webdriver.remote.webelement.WebElement (session=\"27b8c1bea06743801577f0482371a63f\", element=\"307047b5-39e7-4b7d-ac13-6b57899d65ee\")>,\n",
       " <selenium.webdriver.remote.webelement.WebElement (session=\"27b8c1bea06743801577f0482371a63f\", element=\"3e50c004-a5ed-4a6a-9cbd-b670eada2d20\")>,\n",
       " <selenium.webdriver.remote.webelement.WebElement (session=\"27b8c1bea06743801577f0482371a63f\", element=\"223ac757-e53b-4b39-97b8-11107e207220\")>,\n",
       " <selenium.webdriver.remote.webelement.WebElement (session=\"27b8c1bea06743801577f0482371a63f\", element=\"23fe87ed-7fa4-4175-8bf0-9c4f517ebdd7\")>,\n",
       " <selenium.webdriver.remote.webelement.WebElement (session=\"27b8c1bea06743801577f0482371a63f\", element=\"743d2dd7-5430-4710-9f8c-11d1b5179424\")>,\n",
       " <selenium.webdriver.remote.webelement.WebElement (session=\"27b8c1bea06743801577f0482371a63f\", element=\"b235584b-5874-4e4f-9b87-09c636c0b861\")>,\n",
       " <selenium.webdriver.remote.webelement.WebElement (session=\"27b8c1bea06743801577f0482371a63f\", element=\"9a89b0d9-84ec-48b3-a781-481882f5586f\")>,\n",
       " <selenium.webdriver.remote.webelement.WebElement (session=\"27b8c1bea06743801577f0482371a63f\", element=\"f09189d0-5fb3-4a74-ac69-e2856e1ac528\")>,\n",
       " <selenium.webdriver.remote.webelement.WebElement (session=\"27b8c1bea06743801577f0482371a63f\", element=\"6a25e16c-1fdb-4117-b883-25e9a248f5b9\")>]"
      ]
     },
     "execution_count": 61,
     "metadata": {},
     "output_type": "execute_result"
    }
   ],
   "source": [
    "iphones=driver.find_elements_by_xpath('//div[@class=\"s-result-item s-asin sg-col-0-of-12 sg-col-16-of-20 sg-col s-widget-spacing-small sg-col-12-of-16\"]')\n",
    "iphones"
   ]
  },
  {
   "cell_type": "code",
   "execution_count": 62,
   "id": "92af6913",
   "metadata": {},
   "outputs": [
    {
     "name": "stdout",
     "output_type": "stream",
     "text": [
      "Number of observations on this page : 24\n"
     ]
    }
   ],
   "source": [
    "print(f\"Number of observations on this page : {len(iphones)}\")"
   ]
  },
  {
   "cell_type": "markdown",
   "id": "cb45b22d",
   "metadata": {},
   "source": [
    "# Primera Pagina:"
   ]
  },
  {
   "cell_type": "code",
   "execution_count": 63,
   "id": "bb43e930",
   "metadata": {},
   "outputs": [
    {
     "name": "stdout",
     "output_type": "stream",
     "text": [
      "Ejecutando el codigo para scrapear:\n",
      "Numero de datos extraidos 24\n"
     ]
    },
    {
     "data": {
      "text/plain": [
       "[{'Nombre': 'Apple iPhone 12, 128GB, Negro - Totalmente desbloqueado (renovado)',\n",
       "  'Precio': '624',\n",
       "  'Envio': 'Con envíos a Perú'},\n",
       " {'Nombre': 'Apple iPhone 12, 64GB, azul - desbloqueado (renovado Premium)',\n",
       "  'Precio': '659',\n",
       "  'Envio': 'Con envíos a Perú'},\n",
       " {'Nombre': 'Apple iPhone 12, 64GB, negro - desbloqueado (renovado Premium)',\n",
       "  'Precio': '659',\n",
       "  'Envio': 'Con envíos a Perú'},\n",
       " {'Nombre': 'Apple iPhone 12, 64GB, blanco - desbloqueado (renovado Premium)',\n",
       "  'Precio': '659',\n",
       "  'Envio': 'Con envíos a Perú'},\n",
       " {'Nombre': 'Apple iPhone 12, 128GB, azul - desbloqueado (renovado Premium)',\n",
       "  'Precio': '738',\n",
       "  'Envio': 'Con envíos a Perú'},\n",
       " {'Nombre': 'Apple iPhone 12, 128GB, negro - desbloqueado (renovado Premium)',\n",
       "  'Precio': '738',\n",
       "  'Envio': 'Con envíos a Perú'},\n",
       " {'Nombre': 'Apple iPhone 12, 128GB, blanco - desbloqueado (renovado Premium)',\n",
       "  'Precio': '758',\n",
       "  'Envio': 'Con envíos a Perú'},\n",
       " {'Nombre': 'Apple iPhone 12, 64GB, rojo - desbloqueado (renovado Premium)',\n",
       "  'Precio': '659',\n",
       "  'Envio': 'Con envíos a Perú'},\n",
       " {'Nombre': 'Apple iPhone 12, 64GB, verde - desbloqueado (renovado Premium)',\n",
       "  'Precio': '659',\n",
       "  'Envio': 'Con envíos a Perú'},\n",
       " {'Nombre': 'Apple iPhone 12 Mini (renovado)',\n",
       "  'Precio': '565',\n",
       "  'Envio': 'Con envíos a Perú'},\n",
       " {'Nombre': 'Apple iPhone 11, 64GB, Morado (Reacondicionado)',\n",
       "  'Precio': '384',\n",
       "  'Envio': 'Con envíos a Perú'},\n",
       " {'Nombre': 'Apple iPhone 12 Pro, 128 GB, azul pacífico - desbloqueado (renovado Premium)',\n",
       "  'Precio': '849',\n",
       "  'Envio': 'Con envíos a Perú'},\n",
       " {'Nombre': 'Apple iPhone 12 Pro Max, 128 GB, grafito - desbloqueado (renovado Premium)',\n",
       "  'Precio': '979',\n",
       "  'Envio': 'Con envíos a Perú'},\n",
       " {'Nombre': 'Apple iPhone 12 Pro Max, 128 GB, azul pacífico - desbloqueado (renovado Premium)',\n",
       "  'Precio': '979',\n",
       "  'Envio': 'Con envíos a Perú'},\n",
       " {'Nombre': 'Apple iPhone 12 Pro Max, 256 GB, dorado - desbloqueado (renovado Premium)',\n",
       "  'Precio': '1,079',\n",
       "  'Envio': 'Con envíos a Perú'},\n",
       " {'Nombre': 'Apple iPhone 12 Pro Max, 256 GB, azul pacífico - desbloqueado (renovado Premium)',\n",
       "  'Precio': '1,049',\n",
       "  'Envio': 'Con envíos a Perú'},\n",
       " {'Nombre': 'Apple iPhone 12 Pro Max, 512 GB, azul pacífico - desbloqueado (renovado Premium)',\n",
       "  'Precio': '1,099',\n",
       "  'Envio': 'Con envíos a Perú'},\n",
       " {'Nombre': 'Apple iPhone 11 Pro, 64 GB, gris espacial - Desbloqueado (renovado Premium)',\n",
       "  'Precio': '529',\n",
       "  'Envio': 'Con envíos a Perú'},\n",
       " {'Nombre': 'Apple iPhone 12 Pro Max, 128 GB, oro, desbloqueado (renovado Premium)',\n",
       "  'Precio': '999',\n",
       "  'Envio': 'Con envíos a Perú'},\n",
       " {'Nombre': 'Apple iPhone 12 Pro Max, 256GB, grafito - desbloqueado (renovado Premium)',\n",
       "  'Precio': '1,049',\n",
       "  'Envio': 'Con envíos a Perú'},\n",
       " {'Nombre': 'Apple iPhone 12 Pro Max, 512GB, oro - desbloqueado (renovado Premium)',\n",
       "  'Precio': '1,149',\n",
       "  'Envio': 'Con envíos a Perú'},\n",
       " {'Nombre': 'Apple iPhone 12 Pro Max, 512GB, grafito - desbloqueado (renovado Premium)',\n",
       "  'Precio': '1,149',\n",
       "  'Envio': 'Con envíos a Perú'},\n",
       " {'Nombre': 'Apple iPhone 11 Pro Max, 64GB, verde medianoche - desbloqueado (renovado Premium)',\n",
       "  'Precio': '639',\n",
       "  'Envio': 'Con envíos a Perú'},\n",
       " {'Nombre': 'Apple iPhone 11 Pro',\n",
       "  'Precio': '539',\n",
       "  'Envio': 'Con envíos a Perú'}]"
      ]
     },
     "execution_count": 63,
     "metadata": {},
     "output_type": "execute_result"
    }
   ],
   "source": [
    "def all_information(driver):\n",
    "    iphones=driver.find_elements_by_xpath('//div[@class=\"s-result-item s-asin sg-col-0-of-12 sg-col-16-of-20 sg-col s-widget-spacing-small sg-col-12-of-16\"]')\n",
    "    print(\"Ejecutando el codigo para scrapear:\")\n",
    "    print(f\"Numero de datos extraidos {len(iphones)}\")\n",
    "    info=[]\n",
    "    for element in iphones:\n",
    "        resultados=information(element)\n",
    "        info.append(resultados)  \n",
    "    return info\n",
    "\n",
    "obtencion_data=all_information(driver)\n",
    "obtencion_data"
   ]
  },
  {
   "cell_type": "code",
   "execution_count": 67,
   "id": "e0354a25",
   "metadata": {},
   "outputs": [
    {
     "data": {
      "text/html": [
       "<div>\n",
       "<style scoped>\n",
       "    .dataframe tbody tr th:only-of-type {\n",
       "        vertical-align: middle;\n",
       "    }\n",
       "\n",
       "    .dataframe tbody tr th {\n",
       "        vertical-align: top;\n",
       "    }\n",
       "\n",
       "    .dataframe thead th {\n",
       "        text-align: right;\n",
       "    }\n",
       "</style>\n",
       "<table border=\"1\" class=\"dataframe\">\n",
       "  <thead>\n",
       "    <tr style=\"text-align: right;\">\n",
       "      <th></th>\n",
       "      <th>Nombre</th>\n",
       "      <th>Precio</th>\n",
       "      <th>Envio</th>\n",
       "    </tr>\n",
       "  </thead>\n",
       "  <tbody>\n",
       "    <tr>\n",
       "      <th>0</th>\n",
       "      <td>Apple iPhone 12, 128GB, Negro - Totalmente des...</td>\n",
       "      <td>624</td>\n",
       "      <td>Con envíos a Perú</td>\n",
       "    </tr>\n",
       "    <tr>\n",
       "      <th>1</th>\n",
       "      <td>Apple iPhone 12, 64GB, azul - desbloqueado (re...</td>\n",
       "      <td>659</td>\n",
       "      <td>Con envíos a Perú</td>\n",
       "    </tr>\n",
       "    <tr>\n",
       "      <th>2</th>\n",
       "      <td>Apple iPhone 12, 64GB, negro - desbloqueado (r...</td>\n",
       "      <td>659</td>\n",
       "      <td>Con envíos a Perú</td>\n",
       "    </tr>\n",
       "    <tr>\n",
       "      <th>3</th>\n",
       "      <td>Apple iPhone 12, 64GB, blanco - desbloqueado (...</td>\n",
       "      <td>659</td>\n",
       "      <td>Con envíos a Perú</td>\n",
       "    </tr>\n",
       "  </tbody>\n",
       "</table>\n",
       "</div>"
      ],
      "text/plain": [
       "                                              Nombre Precio              Envio\n",
       "0  Apple iPhone 12, 128GB, Negro - Totalmente des...    624  Con envíos a Perú\n",
       "1  Apple iPhone 12, 64GB, azul - desbloqueado (re...    659  Con envíos a Perú\n",
       "2  Apple iPhone 12, 64GB, negro - desbloqueado (r...    659  Con envíos a Perú\n",
       "3  Apple iPhone 12, 64GB, blanco - desbloqueado (...    659  Con envíos a Perú"
      ]
     },
     "execution_count": 67,
     "metadata": {},
     "output_type": "execute_result"
    }
   ],
   "source": [
    "data=pd.DataFrame(obtencion_data)\n",
    "data.head(4)"
   ]
  },
  {
   "cell_type": "code",
   "execution_count": 65,
   "id": "6d1becdb",
   "metadata": {},
   "outputs": [],
   "source": [
    "driver.close()"
   ]
  },
  {
   "cell_type": "markdown",
   "id": "05c787a9",
   "metadata": {},
   "source": [
    "# 2.Scraping the second page:"
   ]
  },
  {
   "cell_type": "markdown",
   "id": "1b0e51dc",
   "metadata": {},
   "source": [
    "* https://www.amazon.com/s?k=iphone+12&i=mobile&rh=n%3A2335752011%2Cp_89%3AApple&dc&page=2&language=es&__mk_es_US=%C3%85M%C3%85%C5%BD%C3%95%C3%91&crid=PZKAV2J6R43U&qid=1646954622&rnid=2528832011&sprefix=iphone+1%2Caps%2C160&ref=sr_pg_2"
   ]
  },
  {
   "cell_type": "code",
   "execution_count": 24,
   "id": "25abfec9",
   "metadata": {},
   "outputs": [],
   "source": [
    "url=\"https://www.amazon.com/s?k=iphone+12&i=mobile&rh=n%3A2335752011%2Cp_89%3AApple&dc&page=2&language=es&__mk_es_US=%C3%85M%C3%85%C5%BD%C3%95%C3%91&crid=PZKAV2J6R43U&qid=1647016941&rnid=2528832011&sprefix=iphone+1%2Caps%2C160&ref=sr_pg_2\"\n",
    "\n",
    "driver=webdriver.Chrome(executable_path=\"C:/Selenium/chromedriver.exe\")\n",
    "driver.get(url)\n",
    "driver.maximize_window()"
   ]
  },
  {
   "cell_type": "markdown",
   "id": "c3215a53",
   "metadata": {},
   "source": [
    "# First element:"
   ]
  },
  {
   "cell_type": "code",
   "execution_count": 25,
   "id": "fa443511",
   "metadata": {},
   "outputs": [
    {
     "data": {
      "text/plain": [
       "'Apple iPhone 12 Pro, 128GB, Azul Pacífico - Totalmente desbloqueado (recondincionado)\\n556\\nUS$765\\n00\\nCon envíos a Perú\\nSolo queda(n) 5 en stock (hay más unidades en camino).\\nMás opciones de compra\\nUS$749.50(13 ofertas nuevas)'"
      ]
     },
     "execution_count": 25,
     "metadata": {},
     "output_type": "execute_result"
    }
   ],
   "source": [
    "first=driver.find_element_by_xpath('.//div[@class=\"s-result-item s-asin sg-col-0-of-12 sg-col-16-of-20 sg-col s-widget-spacing-small sg-col-12-of-16\"]')\n",
    "#Done!\n",
    "first.text"
   ]
  },
  {
   "cell_type": "code",
   "execution_count": 26,
   "id": "0adfcee6",
   "metadata": {},
   "outputs": [
    {
     "data": {
      "text/plain": [
       "{'Nombre': 'Apple iPhone 12 Pro, 128GB, Azul Pacífico - Totalmente desbloqueado (recondincionado)',\n",
       " 'Precio': '765',\n",
       " 'Envio': 'Con envíos a Perú'}"
      ]
     },
     "execution_count": 26,
     "metadata": {},
     "output_type": "execute_result"
    }
   ],
   "source": [
    "def first_inf(driver):\n",
    "    nombre=driver.find_element_by_xpath('.//a[@class=\"a-link-normal s-underline-text s-underline-link-text s-link-style a-text-normal\"]/span').text\n",
    "    precio=driver.find_element_by_xpath('.//span[@class=\"a-price-whole\"]').text\n",
    "    envio=driver.find_element_by_xpath('.//div[@class=\"a-row a-size-base a-color-secondary s-align-children-center\"]/span').text\n",
    "    return {\"Nombre\":nombre, \"Precio\":precio ,\"Envio\":envio}\n",
    "    \n",
    "amazon=first_inf(driver)    \n",
    "amazon"
   ]
  },
  {
   "cell_type": "markdown",
   "id": "e5dd5f55",
   "metadata": {},
   "source": [
    "* It works as well as the fisrt element extracted from page #1."
   ]
  },
  {
   "cell_type": "code",
   "execution_count": 27,
   "id": "74cae67f",
   "metadata": {},
   "outputs": [
    {
     "data": {
      "text/plain": [
       "[<selenium.webdriver.remote.webelement.WebElement (session=\"f2aa88045590440011ac9d9522d874d6\", element=\"d6d52cad-6044-478e-a8e0-57ef7728fd98\")>,\n",
       " <selenium.webdriver.remote.webelement.WebElement (session=\"f2aa88045590440011ac9d9522d874d6\", element=\"d7c9cf85-79e5-4fc4-b9c5-30cdfa714d29\")>,\n",
       " <selenium.webdriver.remote.webelement.WebElement (session=\"f2aa88045590440011ac9d9522d874d6\", element=\"dd38db00-5780-4d40-b797-8c07ea2eba84\")>,\n",
       " <selenium.webdriver.remote.webelement.WebElement (session=\"f2aa88045590440011ac9d9522d874d6\", element=\"eb7f55a8-083f-45bf-9301-f50725f7f2de\")>,\n",
       " <selenium.webdriver.remote.webelement.WebElement (session=\"f2aa88045590440011ac9d9522d874d6\", element=\"ac82234d-812f-4d04-96b0-b833ccb5434a\")>,\n",
       " <selenium.webdriver.remote.webelement.WebElement (session=\"f2aa88045590440011ac9d9522d874d6\", element=\"ca336e24-faeb-45bc-8349-3f0ee179f868\")>,\n",
       " <selenium.webdriver.remote.webelement.WebElement (session=\"f2aa88045590440011ac9d9522d874d6\", element=\"7b487543-a243-43ca-ab8f-b47901530383\")>,\n",
       " <selenium.webdriver.remote.webelement.WebElement (session=\"f2aa88045590440011ac9d9522d874d6\", element=\"c7cc1d98-24f7-449f-850c-1afed2b8db4f\")>,\n",
       " <selenium.webdriver.remote.webelement.WebElement (session=\"f2aa88045590440011ac9d9522d874d6\", element=\"bacd228d-51c1-4d74-ad0c-2a6c97bb5612\")>,\n",
       " <selenium.webdriver.remote.webelement.WebElement (session=\"f2aa88045590440011ac9d9522d874d6\", element=\"f71e5bd1-a102-426b-b2b5-112951f6388c\")>,\n",
       " <selenium.webdriver.remote.webelement.WebElement (session=\"f2aa88045590440011ac9d9522d874d6\", element=\"ff246a0c-5828-48e9-bb3d-e341cc716e3c\")>,\n",
       " <selenium.webdriver.remote.webelement.WebElement (session=\"f2aa88045590440011ac9d9522d874d6\", element=\"d503a670-18f9-4c0b-984a-4f482cbf91f0\")>,\n",
       " <selenium.webdriver.remote.webelement.WebElement (session=\"f2aa88045590440011ac9d9522d874d6\", element=\"0771c8be-ad0f-4742-b0a3-fce7ddf7ca6a\")>,\n",
       " <selenium.webdriver.remote.webelement.WebElement (session=\"f2aa88045590440011ac9d9522d874d6\", element=\"be1f32b8-65ea-4c6e-bbcf-1b89cc3f686d\")>,\n",
       " <selenium.webdriver.remote.webelement.WebElement (session=\"f2aa88045590440011ac9d9522d874d6\", element=\"53ab287f-d07c-409d-abad-aef544fbe3b5\")>,\n",
       " <selenium.webdriver.remote.webelement.WebElement (session=\"f2aa88045590440011ac9d9522d874d6\", element=\"d539c4cf-4ee4-46ad-9ee1-4672b7219351\")>,\n",
       " <selenium.webdriver.remote.webelement.WebElement (session=\"f2aa88045590440011ac9d9522d874d6\", element=\"428ad2a8-c37c-4d5b-9dbd-411729ee19e6\")>,\n",
       " <selenium.webdriver.remote.webelement.WebElement (session=\"f2aa88045590440011ac9d9522d874d6\", element=\"bb321704-6956-4bc4-b186-a366616e1a58\")>,\n",
       " <selenium.webdriver.remote.webelement.WebElement (session=\"f2aa88045590440011ac9d9522d874d6\", element=\"dc2526b5-5b83-4f6d-a02b-465db55eb30f\")>,\n",
       " <selenium.webdriver.remote.webelement.WebElement (session=\"f2aa88045590440011ac9d9522d874d6\", element=\"3d544139-f87a-45ae-94e7-7d8f8846f282\")>,\n",
       " <selenium.webdriver.remote.webelement.WebElement (session=\"f2aa88045590440011ac9d9522d874d6\", element=\"cfc9600e-abf2-4a57-b426-a660a39792cb\")>,\n",
       " <selenium.webdriver.remote.webelement.WebElement (session=\"f2aa88045590440011ac9d9522d874d6\", element=\"d50c77cc-844d-4f2f-90ac-00674a8e0282\")>,\n",
       " <selenium.webdriver.remote.webelement.WebElement (session=\"f2aa88045590440011ac9d9522d874d6\", element=\"f0bbf679-6214-4cc1-93df-95b4e76f6879\")>,\n",
       " <selenium.webdriver.remote.webelement.WebElement (session=\"f2aa88045590440011ac9d9522d874d6\", element=\"71383d16-e59d-4870-b4fb-0610fd1e474c\")>]"
      ]
     },
     "execution_count": 27,
     "metadata": {},
     "output_type": "execute_result"
    }
   ],
   "source": [
    "elements=driver.find_elements_by_xpath('//div[@class=\"s-result-item s-asin sg-col-0-of-12 sg-col-16-of-20 sg-col s-widget-spacing-small sg-col-12-of-16\"]')[:]\n",
    "elements"
   ]
  },
  {
   "cell_type": "code",
   "execution_count": 28,
   "id": "61711254",
   "metadata": {},
   "outputs": [
    {
     "name": "stdout",
     "output_type": "stream",
     "text": [
      "Number of observations on this page : 24\n"
     ]
    }
   ],
   "source": [
    "print(f\"Number of observations on this page : {len(elements)}\")"
   ]
  },
  {
   "cell_type": "code",
   "execution_count": 29,
   "id": "eaec52a5",
   "metadata": {},
   "outputs": [
    {
     "name": "stdout",
     "output_type": "stream",
     "text": [
      "Initializacing the scraping.....\n",
      "Number of observations on this page : 23\n"
     ]
    },
    {
     "data": {
      "text/plain": [
       "[{'Nombre': 'Apple iPhone 12 Pro, 128GB, Azul Pacífico - Totalmente desbloqueado (recondincionado)',\n",
       "  'Precio': '765',\n",
       "  'Envio': 'Con envíos a Perú'},\n",
       " {'Nombre': 'Apple iPhone 12 Pro Max - Parent (recondicionado)',\n",
       "  'Precio': '900',\n",
       "  'Envio': 'Con envíos a Perú'},\n",
       " {'Nombre': 'Apple iPhone XR - Parent',\n",
       "  'Precio': '404',\n",
       "  'Envio': 'Con envíos a Perú'},\n",
       " {'Nombre': 'Apple - iPhone SE de 2ª generación.',\n",
       "  'Precio': '299',\n",
       "  'Envio': 'Con envíos a Perú'},\n",
       " {'Nombre': 'Apple iPhone XS Max (Renovado)',\n",
       "  'Precio': '420',\n",
       "  'Envio': 'Con envíos a Perú'},\n",
       " {'Nombre': 'Apple iPhone X - Parent',\n",
       "  'Precio': '345',\n",
       "  'Envio': 'Con envíos a Perú'},\n",
       " {'Nombre': 'Apple iPhone 13, 128GB, rojo - desbloqueado (renovado)',\n",
       "  'Precio': '960',\n",
       "  'Envio': 'Con envíos a Perú'},\n",
       " {'Nombre': 'Apple iPhone XS, versión estadounidense, 256 GB, gris espacial, desbloqueado (renovado)',\n",
       "  'Precio': '309',\n",
       "  'Envio': 'Con envíos a Perú'},\n",
       " {'Nombre': 'Apple iPhone 12, 256GB, rojo - desbloqueado (renovado Premium)',\n",
       "  'Precio': '809',\n",
       "  'Envio': 'Con envíos a Perú'},\n",
       " {'Nombre': 'Apple iPhone 12 Pro Max, 512GB, grafito - desbloqueado (renovado Premium)',\n",
       "  'Precio': '1,149',\n",
       "  'Envio': 'Con envíos a Perú'},\n",
       " {'Nombre': 'Apple iPhone 12, 128GB, verde - desbloqueado (renovado Premium)',\n",
       "  'Precio': '738',\n",
       "  'Envio': 'Con envíos a Perú'},\n",
       " {'Nombre': 'Apple iPhone 12 Pro Max, 256 GB, plata - desbloqueado (renovado Premium)',\n",
       "  'Precio': '1,079',\n",
       "  'Envio': 'Con envíos a Perú'},\n",
       " {'Nombre': 'Apple iPhone 12, 128GB, rojo - desbloqueado (renovado Premium)',\n",
       "  'Precio': '738',\n",
       "  'Envio': 'Con envíos a Perú'},\n",
       " {'Nombre': 'Apple iPhone 12, 256GB, azul - desbloqueado (renovado Premium)',\n",
       "  'Precio': '809',\n",
       "  'Envio': 'Con envíos a Perú'},\n",
       " {'Nombre': 'Apple - iPhone 11, 128GB, púrpura - desbloqueado (renovado prémium)',\n",
       "  'Precio': '499',\n",
       "  'Envio': 'Con envíos a Perú'},\n",
       " {'Nombre': 'Apple iPhone 8 Plus (renovado)',\n",
       "  'Precio': '249',\n",
       "  'Envio': 'Con envíos a Perú'},\n",
       " {'Nombre': 'Apple iPhone X - Parent',\n",
       "  'Precio': '359',\n",
       "  'Envio': 'Con envíos a Perú'},\n",
       " {'Nombre': 'Apple iPhone 8 GSM desbloqueado, 64GB - espacio gris (restaurado)',\n",
       "  'Precio': '182',\n",
       "  'Envio': 'Con envíos a Perú'},\n",
       " {'Nombre': 'Apple iPhone 12 Pro Max, 128 GB, plata - desbloqueado (renovado Premium)',\n",
       "  'Precio': '979',\n",
       "  'Envio': 'Con envíos a Perú'},\n",
       " {'Nombre': 'Apple iPhone 7 - 32 GB (Renovado), 32 GB',\n",
       "  'Precio': '123',\n",
       "  'Envio': 'Con envíos a Perú'},\n",
       " {'Nombre': 'Apple iPhone 12, 256GB, negro - desbloqueado (renovado Premium)',\n",
       "  'Precio': '809',\n",
       "  'Envio': 'Con envíos a Perú'},\n",
       " {'Nombre': 'Apple iPhone Xs Max (Renovado) Dorado',\n",
       "  'Precio': '439',\n",
       "  'Envio': 'Con envíos a Perú'},\n",
       " {'Nombre': 'Apple iPhone XS, 256 GB, oro, desbloqueado (renovado prémium)',\n",
       "  'Precio': '379',\n",
       "  'Envio': 'Con envíos a Perú'}]"
      ]
     },
     "execution_count": 29,
     "metadata": {},
     "output_type": "execute_result"
    }
   ],
   "source": [
    "##getting all the info from page #2:\n",
    "\n",
    "def info_2(driver):\n",
    "    elements=driver.find_elements_by_xpath('//div[@class=\"s-result-item s-asin sg-col-0-of-12 sg-col-16-of-20 sg-col s-widget-spacing-small sg-col-12-of-16\"]')[:-1]\n",
    "    print(\"Initializacing the scraping.....\")\n",
    "    print(f\"Number of observations on this page : {len(elements)}\")\n",
    "    '''\n",
    "    getting the info: name, price, location to send the product:\n",
    "    '''\n",
    "    script=[]\n",
    "    \n",
    "    for element in elements:\n",
    "        results=first_inf(element)\n",
    "        script.append(results)\n",
    "        \n",
    "    return script\n",
    "\n",
    "datav=info_2(driver)\n",
    "datav"
   ]
  },
  {
   "cell_type": "code",
   "execution_count": 66,
   "id": "1f51c7a0",
   "metadata": {},
   "outputs": [
    {
     "data": {
      "text/html": [
       "<div>\n",
       "<style scoped>\n",
       "    .dataframe tbody tr th:only-of-type {\n",
       "        vertical-align: middle;\n",
       "    }\n",
       "\n",
       "    .dataframe tbody tr th {\n",
       "        vertical-align: top;\n",
       "    }\n",
       "\n",
       "    .dataframe thead th {\n",
       "        text-align: right;\n",
       "    }\n",
       "</style>\n",
       "<table border=\"1\" class=\"dataframe\">\n",
       "  <thead>\n",
       "    <tr style=\"text-align: right;\">\n",
       "      <th></th>\n",
       "      <th>Nombre</th>\n",
       "      <th>Precio</th>\n",
       "      <th>Envio</th>\n",
       "    </tr>\n",
       "  </thead>\n",
       "  <tbody>\n",
       "    <tr>\n",
       "      <th>0</th>\n",
       "      <td>Apple iPhone 12 Pro, 128GB, Azul Pacífico - To...</td>\n",
       "      <td>765</td>\n",
       "      <td>Con envíos a Perú</td>\n",
       "    </tr>\n",
       "    <tr>\n",
       "      <th>1</th>\n",
       "      <td>Apple iPhone 12 Pro Max - Parent (recondicionado)</td>\n",
       "      <td>900</td>\n",
       "      <td>Con envíos a Perú</td>\n",
       "    </tr>\n",
       "    <tr>\n",
       "      <th>2</th>\n",
       "      <td>Apple iPhone XR - Parent</td>\n",
       "      <td>404</td>\n",
       "      <td>Con envíos a Perú</td>\n",
       "    </tr>\n",
       "    <tr>\n",
       "      <th>3</th>\n",
       "      <td>Apple - iPhone SE de 2ª generación.</td>\n",
       "      <td>299</td>\n",
       "      <td>Con envíos a Perú</td>\n",
       "    </tr>\n",
       "    <tr>\n",
       "      <th>4</th>\n",
       "      <td>Apple iPhone XS Max (Renovado)</td>\n",
       "      <td>420</td>\n",
       "      <td>Con envíos a Perú</td>\n",
       "    </tr>\n",
       "  </tbody>\n",
       "</table>\n",
       "</div>"
      ],
      "text/plain": [
       "                                              Nombre Precio              Envio\n",
       "0  Apple iPhone 12 Pro, 128GB, Azul Pacífico - To...    765  Con envíos a Perú\n",
       "1  Apple iPhone 12 Pro Max - Parent (recondicionado)    900  Con envíos a Perú\n",
       "2                           Apple iPhone XR - Parent    404  Con envíos a Perú\n",
       "3                Apple - iPhone SE de 2ª generación.    299  Con envíos a Perú\n",
       "4                     Apple iPhone XS Max (Renovado)    420  Con envíos a Perú"
      ]
     },
     "execution_count": 66,
     "metadata": {},
     "output_type": "execute_result"
    }
   ],
   "source": [
    "data2=pd.DataFrame(data=datav)\n",
    "data2.head(5)"
   ]
  },
  {
   "cell_type": "markdown",
   "id": "22d10174",
   "metadata": {},
   "source": [
    "# 3. Last Page:"
   ]
  },
  {
   "cell_type": "code",
   "execution_count": 31,
   "id": "eb5aac2a",
   "metadata": {},
   "outputs": [],
   "source": [
    "page_3=driver.find_element_by_xpath('.//a[@class=\"s-pagination-item s-pagination-next s-pagination-button s-pagination-separator\"]')\n",
    "page_3.click()"
   ]
  },
  {
   "cell_type": "code",
   "execution_count": 32,
   "id": "d0452e24",
   "metadata": {},
   "outputs": [],
   "source": [
    "def second_inf(driver):\n",
    "    nombre=driver.find_element_by_xpath('.//a[@class=\"a-link-normal s-underline-text s-underline-link-text s-link-style a-text-normal\"]/span').text\n",
    "    precio=driver.find_element_by_xpath('.//span[@class=\"a-price-whole\"]').text\n",
    "    envio=driver.find_element_by_xpath('.//div[@class=\"a-row a-size-base a-color-secondary s-align-children-center\"]/span').text   \n",
    "    return {\"Nombre\":nombre, \"Precio\":precio ,\"Envio\":envio}"
   ]
  },
  {
   "cell_type": "code",
   "execution_count": 33,
   "id": "138209a3",
   "metadata": {},
   "outputs": [
    {
     "data": {
      "text/plain": [
       "[<selenium.webdriver.remote.webelement.WebElement (session=\"f2aa88045590440011ac9d9522d874d6\", element=\"8624a900-24c0-4724-ac68-0576dc55ed2b\")>,\n",
       " <selenium.webdriver.remote.webelement.WebElement (session=\"f2aa88045590440011ac9d9522d874d6\", element=\"71a950d5-2aa6-40de-b3cd-d97ed0acc044\")>,\n",
       " <selenium.webdriver.remote.webelement.WebElement (session=\"f2aa88045590440011ac9d9522d874d6\", element=\"8a997c00-1f6f-4e0f-b821-768eeb57aa82\")>,\n",
       " <selenium.webdriver.remote.webelement.WebElement (session=\"f2aa88045590440011ac9d9522d874d6\", element=\"bf557b49-b1f5-4fc1-b642-8ac7b54f3272\")>,\n",
       " <selenium.webdriver.remote.webelement.WebElement (session=\"f2aa88045590440011ac9d9522d874d6\", element=\"bd376dce-5c28-47b2-9552-5956ec737fb7\")>,\n",
       " <selenium.webdriver.remote.webelement.WebElement (session=\"f2aa88045590440011ac9d9522d874d6\", element=\"5bfb25b6-bcd9-442d-a708-72e2765239bf\")>,\n",
       " <selenium.webdriver.remote.webelement.WebElement (session=\"f2aa88045590440011ac9d9522d874d6\", element=\"cf80ac16-9cf5-456c-b766-6c5857e947f3\")>,\n",
       " <selenium.webdriver.remote.webelement.WebElement (session=\"f2aa88045590440011ac9d9522d874d6\", element=\"b0f07e4e-da74-4835-a5be-730488071b4c\")>,\n",
       " <selenium.webdriver.remote.webelement.WebElement (session=\"f2aa88045590440011ac9d9522d874d6\", element=\"07178b87-f4eb-453b-a058-edd8822ab22d\")>,\n",
       " <selenium.webdriver.remote.webelement.WebElement (session=\"f2aa88045590440011ac9d9522d874d6\", element=\"9219f3ed-f82b-4080-b500-3500426f2dc9\")>,\n",
       " <selenium.webdriver.remote.webelement.WebElement (session=\"f2aa88045590440011ac9d9522d874d6\", element=\"74c3f5a8-428a-4a9d-85fa-f3d435b12eeb\")>,\n",
       " <selenium.webdriver.remote.webelement.WebElement (session=\"f2aa88045590440011ac9d9522d874d6\", element=\"6d6c47b0-2996-4645-a998-8387002b27c9\")>,\n",
       " <selenium.webdriver.remote.webelement.WebElement (session=\"f2aa88045590440011ac9d9522d874d6\", element=\"397aedee-e3b6-4737-8f1c-9bdd3698bb0d\")>,\n",
       " <selenium.webdriver.remote.webelement.WebElement (session=\"f2aa88045590440011ac9d9522d874d6\", element=\"2a2faf76-6149-40d6-bf94-660e753bc3d2\")>,\n",
       " <selenium.webdriver.remote.webelement.WebElement (session=\"f2aa88045590440011ac9d9522d874d6\", element=\"38c4f613-0f4d-440c-992c-8023115148bc\")>,\n",
       " <selenium.webdriver.remote.webelement.WebElement (session=\"f2aa88045590440011ac9d9522d874d6\", element=\"a93702ee-142b-4f46-b766-3ea53197f455\")>,\n",
       " <selenium.webdriver.remote.webelement.WebElement (session=\"f2aa88045590440011ac9d9522d874d6\", element=\"7165e92b-c69f-4030-aa07-47936e700616\")>,\n",
       " <selenium.webdriver.remote.webelement.WebElement (session=\"f2aa88045590440011ac9d9522d874d6\", element=\"0bf6aca6-8aaf-4da5-9947-170ec013be5d\")>]"
      ]
     },
     "execution_count": 33,
     "metadata": {},
     "output_type": "execute_result"
    }
   ],
   "source": [
    "elements_3=driver.find_elements_by_xpath('//div[@class=\"s-result-item s-asin sg-col-0-of-12 sg-col-16-of-20 sg-col s-widget-spacing-small sg-col-12-of-16\"]')\n",
    "elements_3"
   ]
  },
  {
   "cell_type": "code",
   "execution_count": 38,
   "id": "d9681f03",
   "metadata": {},
   "outputs": [
    {
     "name": "stdout",
     "output_type": "stream",
     "text": [
      "Initializacing the scrape......\n"
     ]
    },
    {
     "data": {
      "text/plain": [
       "[{'Nombre': 'Apple iPhone 12 Pro Max, 512GB, plata - desbloqueado (renovado Premium)',\n",
       "  'Precio': '1,169',\n",
       "  'Envio': 'Con envíos a Perú'},\n",
       " {'Nombre': 'Apple iPhone 7 para renovar',\n",
       "  'Precio': '194',\n",
       "  'Envio': 'Con envíos a Perú'},\n",
       " {'Nombre': 'Apple iPhone 12, 256GB, blanco - desbloqueado (renovado Premium)',\n",
       "  'Precio': '809',\n",
       "  'Envio': 'Con envíos a Perú'},\n",
       " {'Nombre': 'Apple iPhone XS, 64 GB, oro, desbloqueado (renovado prémium)',\n",
       "  'Precio': '339',\n",
       "  'Envio': 'Con envíos a Perú'},\n",
       " {'Nombre': 'Apple iPhone XR, Boost Mobile, 64GB - Coral (renovado)',\n",
       "  'Precio': '294',\n",
       "  'Envio': 'Con envíos a Perú'},\n",
       " {'Nombre': 'Apple iPhone 12, 256GB, verde - desbloqueado (renovado Premium)',\n",
       "  'Precio': '809',\n",
       "  'Envio': 'Con envíos a Perú'},\n",
       " {'Nombre': 'Apple iPhone XS, 256 GB, gris espacial, desbloqueado (renovado prémium)',\n",
       "  'Precio': '379',\n",
       "  'Envio': 'Con envíos a Perú'},\n",
       " {'Nombre': 'Apple iPhone XS, 64 GB, plata, operadores GSM (renovado prémium)',\n",
       "  'Precio': '339',\n",
       "  'Envio': 'Con envíos a Perú'},\n",
       " {'Nombre': 'Apple iPhone XS, 64 GB, gris espacial, desbloqueado (renovado prémium)',\n",
       "  'Precio': '339',\n",
       "  'Envio': 'Con envíos a Perú'},\n",
       " {'Nombre': 'Apple iPhone XS, 512 GB, gris espacial, desbloqueado (renovado prémium)',\n",
       "  'Precio': '399',\n",
       "  'Envio': 'Con envíos a Perú'},\n",
       " {'Nombre': 'Apple iPhone XS, 256 GB, plata, desbloqueado (renovado prémium)',\n",
       "  'Precio': '379',\n",
       "  'Envio': 'Con envíos a Perú'},\n",
       " {'Nombre': 'Apple iPhone XS, 64 GB, plata, desbloqueado (renovado prémium)',\n",
       "  'Precio': '339',\n",
       "  'Envio': 'Con envíos a Perú'},\n",
       " {'Nombre': 'Apple iPhone XS, 64 GB, gris espacial, operadores GSM (renovado prémium)',\n",
       "  'Precio': '339',\n",
       "  'Envio': 'Con envíos a Perú'},\n",
       " {'Nombre': 'Apple iPhone XS, 256 GB, gris espacial, operadores GSM (renovado prémium)',\n",
       "  'Precio': '379',\n",
       "  'Envio': 'Con envíos a Perú'},\n",
       " {'Nombre': 'Apple iPhone XS, 64 GB, oro, operadores GSM (renovado prémium)',\n",
       "  'Precio': '339',\n",
       "  'Envio': 'Con envíos a Perú'}]"
      ]
     },
     "execution_count": 38,
     "metadata": {},
     "output_type": "execute_result"
    }
   ],
   "source": [
    "def info_3(driver):\n",
    "    elements_3=driver.find_elements_by_xpath('//div[@class=\"s-result-item s-asin sg-col-0-of-12 sg-col-16-of-20 sg-col s-widget-spacing-small sg-col-12-of-16\"]')[2:-1]\n",
    "    print(\"Initializacing the scrape......\")\n",
    "\n",
    "    script=[]\n",
    "    for i in elements_3:\n",
    "        results=second_inf(i)\n",
    "        script.append(results)\n",
    "    return script\n",
    "\n",
    "final=info_3(driver)\n",
    "final"
   ]
  },
  {
   "cell_type": "code",
   "execution_count": 39,
   "id": "da9b669c",
   "metadata": {},
   "outputs": [
    {
     "data": {
      "text/html": [
       "<div>\n",
       "<style scoped>\n",
       "    .dataframe tbody tr th:only-of-type {\n",
       "        vertical-align: middle;\n",
       "    }\n",
       "\n",
       "    .dataframe tbody tr th {\n",
       "        vertical-align: top;\n",
       "    }\n",
       "\n",
       "    .dataframe thead th {\n",
       "        text-align: right;\n",
       "    }\n",
       "</style>\n",
       "<table border=\"1\" class=\"dataframe\">\n",
       "  <thead>\n",
       "    <tr style=\"text-align: right;\">\n",
       "      <th></th>\n",
       "      <th>Nombre</th>\n",
       "      <th>Precio</th>\n",
       "      <th>Envio</th>\n",
       "    </tr>\n",
       "  </thead>\n",
       "  <tbody>\n",
       "    <tr>\n",
       "      <th>0</th>\n",
       "      <td>Apple iPhone 12 Pro Max, 512GB, plata - desblo...</td>\n",
       "      <td>1,169</td>\n",
       "      <td>Con envíos a Perú</td>\n",
       "    </tr>\n",
       "    <tr>\n",
       "      <th>1</th>\n",
       "      <td>Apple iPhone 7 para renovar</td>\n",
       "      <td>194</td>\n",
       "      <td>Con envíos a Perú</td>\n",
       "    </tr>\n",
       "    <tr>\n",
       "      <th>2</th>\n",
       "      <td>Apple iPhone 12, 256GB, blanco - desbloqueado ...</td>\n",
       "      <td>809</td>\n",
       "      <td>Con envíos a Perú</td>\n",
       "    </tr>\n",
       "    <tr>\n",
       "      <th>3</th>\n",
       "      <td>Apple iPhone XS, 64 GB, oro, desbloqueado (ren...</td>\n",
       "      <td>339</td>\n",
       "      <td>Con envíos a Perú</td>\n",
       "    </tr>\n",
       "  </tbody>\n",
       "</table>\n",
       "</div>"
      ],
      "text/plain": [
       "                                              Nombre Precio              Envio\n",
       "0  Apple iPhone 12 Pro Max, 512GB, plata - desblo...  1,169  Con envíos a Perú\n",
       "1                        Apple iPhone 7 para renovar    194  Con envíos a Perú\n",
       "2  Apple iPhone 12, 256GB, blanco - desbloqueado ...    809  Con envíos a Perú\n",
       "3  Apple iPhone XS, 64 GB, oro, desbloqueado (ren...    339  Con envíos a Perú"
      ]
     },
     "execution_count": 39,
     "metadata": {},
     "output_type": "execute_result"
    }
   ],
   "source": [
    "data3=pd.DataFrame(final)\n",
    "data3.head(4)"
   ]
  },
  {
   "cell_type": "markdown",
   "id": "8a09df9f",
   "metadata": {},
   "source": [
    "# Joining the results:"
   ]
  },
  {
   "cell_type": "code",
   "execution_count": 92,
   "id": "474af866",
   "metadata": {},
   "outputs": [
    {
     "data": {
      "text/html": [
       "<div>\n",
       "<style scoped>\n",
       "    .dataframe tbody tr th:only-of-type {\n",
       "        vertical-align: middle;\n",
       "    }\n",
       "\n",
       "    .dataframe tbody tr th {\n",
       "        vertical-align: top;\n",
       "    }\n",
       "\n",
       "    .dataframe thead th {\n",
       "        text-align: right;\n",
       "    }\n",
       "</style>\n",
       "<table border=\"1\" class=\"dataframe\">\n",
       "  <thead>\n",
       "    <tr style=\"text-align: right;\">\n",
       "      <th></th>\n",
       "      <th>Nombre</th>\n",
       "      <th>Precio</th>\n",
       "      <th>Envio</th>\n",
       "    </tr>\n",
       "  </thead>\n",
       "  <tbody>\n",
       "    <tr>\n",
       "      <th>56</th>\n",
       "      <td>Apple iPhone XS, 512 GB, gris espacial, desblo...</td>\n",
       "      <td>399</td>\n",
       "      <td>Con envíos a Perú</td>\n",
       "    </tr>\n",
       "    <tr>\n",
       "      <th>57</th>\n",
       "      <td>Apple iPhone XS, 256 GB, plata, desbloqueado (...</td>\n",
       "      <td>379</td>\n",
       "      <td>Con envíos a Perú</td>\n",
       "    </tr>\n",
       "    <tr>\n",
       "      <th>58</th>\n",
       "      <td>Apple iPhone XS, 64 GB, plata, desbloqueado (r...</td>\n",
       "      <td>339</td>\n",
       "      <td>Con envíos a Perú</td>\n",
       "    </tr>\n",
       "    <tr>\n",
       "      <th>59</th>\n",
       "      <td>Apple iPhone XS, 64 GB, gris espacial, operado...</td>\n",
       "      <td>339</td>\n",
       "      <td>Con envíos a Perú</td>\n",
       "    </tr>\n",
       "    <tr>\n",
       "      <th>60</th>\n",
       "      <td>Apple iPhone XS, 256 GB, gris espacial, operad...</td>\n",
       "      <td>379</td>\n",
       "      <td>Con envíos a Perú</td>\n",
       "    </tr>\n",
       "    <tr>\n",
       "      <th>61</th>\n",
       "      <td>Apple iPhone XS, 64 GB, oro, operadores GSM (r...</td>\n",
       "      <td>339</td>\n",
       "      <td>Con envíos a Perú</td>\n",
       "    </tr>\n",
       "  </tbody>\n",
       "</table>\n",
       "</div>"
      ],
      "text/plain": [
       "                                               Nombre Precio  \\\n",
       "56  Apple iPhone XS, 512 GB, gris espacial, desblo...    399   \n",
       "57  Apple iPhone XS, 256 GB, plata, desbloqueado (...    379   \n",
       "58  Apple iPhone XS, 64 GB, plata, desbloqueado (r...    339   \n",
       "59  Apple iPhone XS, 64 GB, gris espacial, operado...    339   \n",
       "60  Apple iPhone XS, 256 GB, gris espacial, operad...    379   \n",
       "61  Apple iPhone XS, 64 GB, oro, operadores GSM (r...    339   \n",
       "\n",
       "                Envio  \n",
       "56  Con envíos a Perú  \n",
       "57  Con envíos a Perú  \n",
       "58  Con envíos a Perú  \n",
       "59  Con envíos a Perú  \n",
       "60  Con envíos a Perú  \n",
       "61  Con envíos a Perú  "
      ]
     },
     "execution_count": 92,
     "metadata": {},
     "output_type": "execute_result"
    }
   ],
   "source": [
    "df=pd.concat([data,data2,data3], axis=0).reset_index(drop=True)\n",
    "df.tail(6)"
   ]
  },
  {
   "cell_type": "code",
   "execution_count": 91,
   "id": "2429001a",
   "metadata": {},
   "outputs": [
    {
     "name": "stdout",
     "output_type": "stream",
     "text": [
      "(62, 3)\n"
     ]
    }
   ],
   "source": [
    "print(df.shape)"
   ]
  },
  {
   "cell_type": "code",
   "execution_count": 47,
   "id": "3eab9ec3",
   "metadata": {},
   "outputs": [],
   "source": [
    "driver.close()"
   ]
  }
 ],
 "metadata": {
  "kernelspec": {
   "display_name": "Python 3 (ipykernel)",
   "language": "python",
   "name": "python3"
  },
  "language_info": {
   "codemirror_mode": {
    "name": "ipython",
    "version": 3
   },
   "file_extension": ".py",
   "mimetype": "text/x-python",
   "name": "python",
   "nbconvert_exporter": "python",
   "pygments_lexer": "ipython3",
   "version": "3.9.7"
  }
 },
 "nbformat": 4,
 "nbformat_minor": 5
}
